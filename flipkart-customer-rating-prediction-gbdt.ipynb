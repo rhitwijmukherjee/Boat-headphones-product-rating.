{
 "cells": [
  {
   "cell_type": "code",
   "execution_count": 1,
   "id": "f92ac177",
   "metadata": {
    "_cell_guid": "b1076dfc-b9ad-4769-8c92-a6c4dae69d19",
    "_uuid": "8f2839f25d086af736a60e9eeb907d3b93b6e0e5",
    "execution": {
     "iopub.execute_input": "2022-07-25T12:50:54.219967Z",
     "iopub.status.busy": "2022-07-25T12:50:54.218804Z",
     "iopub.status.idle": "2022-07-25T12:50:54.246248Z",
     "shell.execute_reply": "2022-07-25T12:50:54.245104Z"
    },
    "papermill": {
     "duration": 0.051977,
     "end_time": "2022-07-25T12:50:54.249270",
     "exception": false,
     "start_time": "2022-07-25T12:50:54.197293",
     "status": "completed"
    },
    "tags": []
   },
   "outputs": [
    {
     "name": "stdout",
     "output_type": "stream",
     "text": [
      "/kaggle/input/flipkart-customer-review-and-rating/data.csv\n"
     ]
    }
   ],
   "source": [
    "# This Python 3 environment comes with many helpful analytics libraries installed\n",
    "# It is defined by the kaggle/python Docker image: https://github.com/kaggle/docker-python\n",
    "# For example, here's several helpful packages to load\n",
    "\n",
    "import numpy as np # linear algebra\n",
    "import pandas as pd # data processing, CSV file I/O (e.g. pd.read_csv)\n",
    "\n",
    "# Input data files are available in the read-only \"../input/\" directory\n",
    "# For example, running this (by clicking run or pressing Shift+Enter) will list all files under the input directory\n",
    "\n",
    "import os\n",
    "for dirname, _, filenames in os.walk('/kaggle/input'):\n",
    "    for filename in filenames:\n",
    "        print(os.path.join(dirname, filename))\n",
    "\n",
    "# You can write up to 20GB to the current directory (/kaggle/working/) that gets preserved as output when you create a version using \"Save & Run All\" \n",
    "# You can also write temporary files to /kaggle/temp/, but they won't be saved outside of the current session"
   ]
  },
  {
   "cell_type": "code",
   "execution_count": 2,
   "id": "594c3251",
   "metadata": {
    "execution": {
     "iopub.execute_input": "2022-07-25T12:50:54.290461Z",
     "iopub.status.busy": "2022-07-25T12:50:54.290089Z",
     "iopub.status.idle": "2022-07-25T12:50:54.294359Z",
     "shell.execute_reply": "2022-07-25T12:50:54.293585Z"
    },
    "papermill": {
     "duration": 0.026123,
     "end_time": "2022-07-25T12:50:54.296569",
     "exception": false,
     "start_time": "2022-07-25T12:50:54.270446",
     "status": "completed"
    },
    "tags": []
   },
   "outputs": [],
   "source": [
    "#!ls '/kaggle/input/flipkart-customer-review-and-rating'"
   ]
  },
  {
   "cell_type": "markdown",
   "id": "110ea6bf",
   "metadata": {
    "papermill": {
     "duration": 0.019182,
     "end_time": "2022-07-25T12:50:54.335022",
     "exception": false,
     "start_time": "2022-07-25T12:50:54.315840",
     "status": "completed"
    },
    "tags": []
   },
   "source": [
    "# ***EDA and Text preprocessing***"
   ]
  },
  {
   "cell_type": "code",
   "execution_count": 3,
   "id": "68fae259",
   "metadata": {
    "execution": {
     "iopub.execute_input": "2022-07-25T12:50:54.373382Z",
     "iopub.status.busy": "2022-07-25T12:50:54.373006Z",
     "iopub.status.idle": "2022-07-25T12:50:54.427401Z",
     "shell.execute_reply": "2022-07-25T12:50:54.426596Z"
    },
    "papermill": {
     "duration": 0.076574,
     "end_time": "2022-07-25T12:50:54.429929",
     "exception": false,
     "start_time": "2022-07-25T12:50:54.353355",
     "status": "completed"
    },
    "tags": []
   },
   "outputs": [],
   "source": [
    "df = pd.read_csv('/kaggle/input/flipkart-customer-review-and-rating/data.csv')"
   ]
  },
  {
   "cell_type": "code",
   "execution_count": 4,
   "id": "88ac9146",
   "metadata": {
    "execution": {
     "iopub.execute_input": "2022-07-25T12:50:54.469996Z",
     "iopub.status.busy": "2022-07-25T12:50:54.469096Z",
     "iopub.status.idle": "2022-07-25T12:50:54.486488Z",
     "shell.execute_reply": "2022-07-25T12:50:54.485736Z"
    },
    "papermill": {
     "duration": 0.039279,
     "end_time": "2022-07-25T12:50:54.488426",
     "exception": false,
     "start_time": "2022-07-25T12:50:54.449147",
     "status": "completed"
    },
    "tags": []
   },
   "outputs": [
    {
     "data": {
      "text/html": [
       "<div>\n",
       "<style scoped>\n",
       "    .dataframe tbody tr th:only-of-type {\n",
       "        vertical-align: middle;\n",
       "    }\n",
       "\n",
       "    .dataframe tbody tr th {\n",
       "        vertical-align: top;\n",
       "    }\n",
       "\n",
       "    .dataframe thead th {\n",
       "        text-align: right;\n",
       "    }\n",
       "</style>\n",
       "<table border=\"1\" class=\"dataframe\">\n",
       "  <thead>\n",
       "    <tr style=\"text-align: right;\">\n",
       "      <th></th>\n",
       "      <th>review</th>\n",
       "      <th>rating</th>\n",
       "    </tr>\n",
       "  </thead>\n",
       "  <tbody>\n",
       "    <tr>\n",
       "      <th>0</th>\n",
       "      <td>It was nice produt. I like it's design a lot. ...</td>\n",
       "      <td>5</td>\n",
       "    </tr>\n",
       "    <tr>\n",
       "      <th>1</th>\n",
       "      <td>awesome sound....very pretty to see this nd th...</td>\n",
       "      <td>5</td>\n",
       "    </tr>\n",
       "    <tr>\n",
       "      <th>2</th>\n",
       "      <td>awesome sound quality. pros 7-8 hrs of battery...</td>\n",
       "      <td>4</td>\n",
       "    </tr>\n",
       "    <tr>\n",
       "      <th>3</th>\n",
       "      <td>I think it is such a good product not only as ...</td>\n",
       "      <td>5</td>\n",
       "    </tr>\n",
       "    <tr>\n",
       "      <th>4</th>\n",
       "      <td>awesome bass sound quality very good bettary l...</td>\n",
       "      <td>5</td>\n",
       "    </tr>\n",
       "  </tbody>\n",
       "</table>\n",
       "</div>"
      ],
      "text/plain": [
       "                                              review  rating\n",
       "0  It was nice produt. I like it's design a lot. ...       5\n",
       "1  awesome sound....very pretty to see this nd th...       5\n",
       "2  awesome sound quality. pros 7-8 hrs of battery...       4\n",
       "3  I think it is such a good product not only as ...       5\n",
       "4  awesome bass sound quality very good bettary l...       5"
      ]
     },
     "execution_count": 4,
     "metadata": {},
     "output_type": "execute_result"
    }
   ],
   "source": [
    "df.head()"
   ]
  },
  {
   "cell_type": "code",
   "execution_count": 5,
   "id": "af1a3e66",
   "metadata": {
    "execution": {
     "iopub.execute_input": "2022-07-25T12:50:54.528308Z",
     "iopub.status.busy": "2022-07-25T12:50:54.527698Z",
     "iopub.status.idle": "2022-07-25T12:50:54.536820Z",
     "shell.execute_reply": "2022-07-25T12:50:54.535864Z"
    },
    "papermill": {
     "duration": 0.031485,
     "end_time": "2022-07-25T12:50:54.538905",
     "exception": false,
     "start_time": "2022-07-25T12:50:54.507420",
     "status": "completed"
    },
    "tags": []
   },
   "outputs": [
    {
     "data": {
      "text/plain": [
       "review    0\n",
       "rating    0\n",
       "dtype: int64"
      ]
     },
     "execution_count": 5,
     "metadata": {},
     "output_type": "execute_result"
    }
   ],
   "source": [
    "df.isnull().sum() # no null value found in dataset"
   ]
  },
  {
   "cell_type": "code",
   "execution_count": 6,
   "id": "2b6d331f",
   "metadata": {
    "execution": {
     "iopub.execute_input": "2022-07-25T12:50:54.578677Z",
     "iopub.status.busy": "2022-07-25T12:50:54.578042Z",
     "iopub.status.idle": "2022-07-25T12:50:54.587951Z",
     "shell.execute_reply": "2022-07-25T12:50:54.586876Z"
    },
    "papermill": {
     "duration": 0.032078,
     "end_time": "2022-07-25T12:50:54.589931",
     "exception": false,
     "start_time": "2022-07-25T12:50:54.557853",
     "status": "completed"
    },
    "tags": []
   },
   "outputs": [
    {
     "name": "stdout",
     "output_type": "stream",
     "text": [
      "No.of.unique values : 5\n"
     ]
    }
   ],
   "source": [
    "# 5 unique ratings\n",
    "n = len(pd.unique(df['rating']))\n",
    "  \n",
    "print(\"No.of.unique values :\", \n",
    "      n)"
   ]
  },
  {
   "cell_type": "code",
   "execution_count": 7,
   "id": "7734d037",
   "metadata": {
    "execution": {
     "iopub.execute_input": "2022-07-25T12:50:54.629948Z",
     "iopub.status.busy": "2022-07-25T12:50:54.629265Z",
     "iopub.status.idle": "2022-07-25T12:50:55.676474Z",
     "shell.execute_reply": "2022-07-25T12:50:55.675653Z"
    },
    "papermill": {
     "duration": 1.069966,
     "end_time": "2022-07-25T12:50:55.678950",
     "exception": false,
     "start_time": "2022-07-25T12:50:54.608984",
     "status": "completed"
    },
    "tags": []
   },
   "outputs": [],
   "source": [
    "import matplotlib.pyplot as plt\n",
    "import seaborn as sns"
   ]
  },
  {
   "cell_type": "code",
   "execution_count": 8,
   "id": "5f6d2684",
   "metadata": {
    "execution": {
     "iopub.execute_input": "2022-07-25T12:50:55.719893Z",
     "iopub.status.busy": "2022-07-25T12:50:55.719207Z",
     "iopub.status.idle": "2022-07-25T12:50:56.201800Z",
     "shell.execute_reply": "2022-07-25T12:50:56.200697Z"
    },
    "papermill": {
     "duration": 0.505805,
     "end_time": "2022-07-25T12:50:56.204221",
     "exception": false,
     "start_time": "2022-07-25T12:50:55.698416",
     "status": "completed"
    },
    "tags": []
   },
   "outputs": [
    {
     "name": "stderr",
     "output_type": "stream",
     "text": [
      "/opt/conda/lib/python3.7/site-packages/seaborn/axisgrid.py:337: UserWarning: The `size` parameter has been renamed to `height`; please update your code.\n",
      "  warnings.warn(msg, UserWarning)\n",
      "/opt/conda/lib/python3.7/site-packages/seaborn/distributions.py:2619: FutureWarning: `distplot` is a deprecated function and will be removed in a future version. Please adapt your code to use either `displot` (a figure-level function with similar flexibility) or `histplot` (an axes-level function for histograms).\n",
      "  warnings.warn(msg, FutureWarning)\n"
     ]
    },
    {
     "data": {
      "image/png": "[encoded data removed]",
      "text/plain": [
       "<Figure size 368x360 with 1 Axes>"
      ]
     },
     "metadata": {
      "needs_background": "light"
     },
     "output_type": "display_data"
    }
   ],
   "source": [
    "# histogram \n",
    "sns.FacetGrid(df, size=5) \\\n",
    "   .map(sns.distplot, \"rating\") \\\n",
    "   .add_legend();\n",
    "plt.show();"
   ]
  },
  {
   "cell_type": "markdown",
   "id": "8c6863f4",
   "metadata": {
    "papermill": {
     "duration": 0.019152,
     "end_time": "2022-07-25T12:50:56.243670",
     "exception": false,
     "start_time": "2022-07-25T12:50:56.224518",
     "status": "completed"
    },
    "tags": []
   },
   "source": [
    "### ***By Histogram***\n",
    "- majority ratings lies between 4 and 5 getting rough idea with histogram"
   ]
  },
  {
   "cell_type": "code",
   "execution_count": 9,
   "id": "83e81e03",
   "metadata": {
    "execution": {
     "iopub.execute_input": "2022-07-25T12:50:56.285246Z",
     "iopub.status.busy": "2022-07-25T12:50:56.284658Z",
     "iopub.status.idle": "2022-07-25T12:50:56.291962Z",
     "shell.execute_reply": "2022-07-25T12:50:56.290866Z"
    },
    "papermill": {
     "duration": 0.030963,
     "end_time": "2022-07-25T12:50:56.294259",
     "exception": false,
     "start_time": "2022-07-25T12:50:56.263296",
     "status": "completed"
    },
    "tags": []
   },
   "outputs": [
    {
     "name": "stdout",
     "output_type": "stream",
     "text": [
      "[0.06926624 0.         0.03107458 0.         0.         0.08861267\n",
      " 0.         0.23706897 0.         0.57397755]\n",
      "[1.  1.4 1.8 2.2 2.6 3.  3.4 3.8 4.2 4.6 5. ]\n"
     ]
    }
   ],
   "source": [
    "#pdf and cdf\n",
    "counts, bin_edges = np.histogram(df['rating'], bins=10, \n",
    "                                 density = True)\n",
    "pdf = counts/(sum(counts))\n",
    "print(pdf);\n",
    "print(bin_edges)"
   ]
  },
  {
   "cell_type": "code",
   "execution_count": 10,
   "id": "b7883257",
   "metadata": {
    "execution": {
     "iopub.execute_input": "2022-07-25T12:50:56.334926Z",
     "iopub.status.busy": "2022-07-25T12:50:56.334506Z",
     "iopub.status.idle": "2022-07-25T12:50:56.535150Z",
     "shell.execute_reply": "2022-07-25T12:50:56.534378Z"
    },
    "papermill": {
     "duration": 0.223322,
     "end_time": "2022-07-25T12:50:56.537169",
     "exception": false,
     "start_time": "2022-07-25T12:50:56.313847",
     "status": "completed"
    },
    "tags": []
   },
   "outputs": [
    {
     "data": {
      "image/png": "[encoded data removed]",
      "text/plain": [
       "<Figure size 432x288 with 1 Axes>"
      ]
     },
     "metadata": {
      "needs_background": "light"
     },
     "output_type": "display_data"
    }
   ],
   "source": [
    "cdf = np.cumsum(pdf)\n",
    "a=plt.plot(bin_edges[1:],pdf)\n",
    "b=plt.plot(bin_edges[1:], cdf)\n",
    "\n",
    "plt.xlabel(\"ratings\")\n",
    "plt.legend(['pdf','cdf'])\n",
    "plt.show()"
   ]
  },
  {
   "cell_type": "markdown",
   "id": "03eba716",
   "metadata": {
    "papermill": {
     "duration": 0.019885,
     "end_time": "2022-07-25T12:50:56.576897",
     "exception": false,
     "start_time": "2022-07-25T12:50:56.557012",
     "status": "completed"
    },
    "tags": []
   },
   "source": [
    "### ***By Pdf and Cdf***\n",
    "- with more confident i can say majority ratings lie between 4 and 5"
   ]
  },
  {
   "cell_type": "markdown",
   "id": "515d048a",
   "metadata": {
    "papermill": {
     "duration": 0.019829,
     "end_time": "2022-07-25T12:50:56.616968",
     "exception": false,
     "start_time": "2022-07-25T12:50:56.597139",
     "status": "completed"
    },
    "tags": []
   },
   "source": [
    "## ***Text preprocessing***"
   ]
  },
  {
   "cell_type": "code",
   "execution_count": 11,
   "id": "53deaa41",
   "metadata": {
    "execution": {
     "iopub.execute_input": "2022-07-25T12:50:56.659557Z",
     "iopub.status.busy": "2022-07-25T12:50:56.658444Z",
     "iopub.status.idle": "2022-07-25T12:50:56.666574Z",
     "shell.execute_reply": "2022-07-25T12:50:56.665577Z"
    },
    "papermill": {
     "duration": 0.03162,
     "end_time": "2022-07-25T12:50:56.668736",
     "exception": false,
     "start_time": "2022-07-25T12:50:56.637116",
     "status": "completed"
    },
    "tags": []
   },
   "outputs": [],
   "source": [
    "# https://stackoverflow.com/a/47091490/4084039\n",
    "import re\n",
    "# changing words which contain short forms like change won't to will not and etc\n",
    "def decontracted(phrase):\n",
    "    \n",
    "    phrase = re.sub(r\"won't\", \"will not\", phrase)\n",
    "    phrase = re.sub(r\"can\\'t\", \"can not\", phrase)\n",
    "    \n",
    "    phrase = re.sub(r\"n\\'t\", \" not\", phrase)\n",
    "    phrase = re.sub(r\"\\'re\", \" are\", phrase)\n",
    "    phrase = re.sub(r\"\\'s\", \" is\", phrase)\n",
    "    phrase = re.sub(r\"\\'d\", \" would\", phrase)\n",
    "    phrase = re.sub(r\"\\'ll\", \" will\", phrase)\n",
    "    phrase = re.sub(r\"\\'t\", \" not\", phrase)\n",
    "    phrase = re.sub(r\"\\'ve\", \" have\", phrase)\n",
    "    phrase = re.sub(r\"\\'m\", \" am\", phrase)\n",
    "    return phrase"
   ]
  },
  {
   "cell_type": "code",
   "execution_count": 12,
   "id": "3f0f8189",
   "metadata": {
    "execution": {
     "iopub.execute_input": "2022-07-25T12:50:56.710465Z",
     "iopub.status.busy": "2022-07-25T12:50:56.710080Z",
     "iopub.status.idle": "2022-07-25T12:50:56.722355Z",
     "shell.execute_reply": "2022-07-25T12:50:56.721594Z"
    },
    "papermill": {
     "duration": 0.035705,
     "end_time": "2022-07-25T12:50:56.724377",
     "exception": false,
     "start_time": "2022-07-25T12:50:56.688672",
     "status": "completed"
    },
    "tags": []
   },
   "outputs": [],
   "source": [
    "# https://gist.github.com/sebleier/554280\n",
    "# removing the words from the stop words list: 'no', 'nor', 'not'\n",
    "stopwords= ['i', 'me', 'my', 'myself', 'we', 'our', 'ours', 'ourselves', 'you', \"you're\", \"you've\",\\\n",
    "            \"you'll\", \"you'd\", 'your', 'yours', 'yourself', 'yourselves', 'he', 'him', 'his', 'himself', \\\n",
    "            'she', \"she's\", 'her', 'hers', 'herself', 'it', \"it's\", 'its', 'itself', 'they', 'them', 'their',\\\n",
    "            'theirs', 'themselves', 'what', 'which', 'who', 'whom', 'this', 'that', \"that'll\", 'these', 'those', \\\n",
    "            'am', 'is', 'are', 'was', 'were', 'be', 'been', 'being', 'have', 'has', 'had', 'having', 'do', 'does', \\\n",
    "            'did', 'doing', 'a', 'an', 'the', 'and', 'but', 'if', 'or', 'because', 'as', 'until', 'while', 'of', \\\n",
    "            'at', 'by', 'for', 'with', 'about', 'against', 'between', 'into', 'through', 'during', 'before', 'after',\\\n",
    "            'above', 'below', 'to', 'from', 'up', 'down', 'in', 'out', 'on', 'off', 'over', 'under', 'again', 'further',\\\n",
    "            'then', 'once', 'here', 'there', 'when', 'where', 'why', 'how', 'all', 'any', 'both', 'each', 'few', 'more',\\\n",
    "            'most', 'other', 'some', 'such', 'only', 'own', 'same', 'so', 'than', 'too', 'very', \\\n",
    "            's', 't', 'can', 'will', 'just', 'don', \"don't\", 'should', \"should've\", 'now', 'd', 'll', 'm', 'o', 're', \\\n",
    "            've', 'y', 'ain', 'aren', \"aren't\", 'couldn', \"couldn't\", 'didn', \"didn't\", 'doesn', \"doesn't\", 'hadn',\\\n",
    "            \"hadn't\", 'hasn', \"hasn't\", 'haven', \"haven't\", 'isn', \"isn't\", 'ma', 'mightn', \"mightn't\", 'mustn',\\\n",
    "            \"mustn't\", 'needn', \"needn't\", 'shan', \"shan't\", 'shouldn', \"shouldn't\", 'wasn', \"wasn't\", 'weren', \"weren't\", \\\n",
    "            'won', \"won't\", 'wouldn', \"wouldn't\"]"
   ]
  },
  {
   "cell_type": "code",
   "execution_count": 13,
   "id": "7e0e2d7b",
   "metadata": {
    "execution": {
     "iopub.execute_input": "2022-07-25T12:50:56.767975Z",
     "iopub.status.busy": "2022-07-25T12:50:56.766901Z",
     "iopub.status.idle": "2022-07-25T12:50:56.774947Z",
     "shell.execute_reply": "2022-07-25T12:50:56.773581Z"
    },
    "papermill": {
     "duration": 0.032415,
     "end_time": "2022-07-25T12:50:56.777194",
     "exception": false,
     "start_time": "2022-07-25T12:50:56.744779",
     "status": "completed"
    },
    "tags": []
   },
   "outputs": [
    {
     "name": "stdout",
     "output_type": "stream",
     "text": [
      "0 It was nice produt. I like it's design a lot.  It's easy to carry. And.   Looked stylish.READ MORE\n",
      "1 awesome sound....very pretty to see this nd the sound quality was too good I wish to take this product loved this product 😍😍😍READ MORE\n",
      "2 awesome sound quality. pros 7-8 hrs of battery life (including 45 mins approx call time)Awesome sound output. Bass and treble are really very clear without equaliser. With equaliser, sound wary depends on the handset sound quality.Weightless to carry and in head tooMic is good, but in traffic it is not too good (3.25/5)3.5mm Option is really important to mention. Really expecting other leading brands to implement this.ConsVery tight in ears. adjusters are ok .. this ll be very tight...READ MORE\n",
      "3 I think it is such a good product not only as per the quality but also the design is quite good . I m using this product from January ... In this pandamic situation it has became the most useful and helpful . Overall the bass and the sound quality is pretty good and another thing that will give you such a sigh of relief that it will provide a wire that will help you in case of lacking charges.READ MORE\n",
      "4 awesome bass sound quality very good bettary long life  and I have a purchase Rs.999  only really grateful product don't forget to likeREAD MORE\n"
     ]
    }
   ],
   "source": [
    "# text before preprocessing\n",
    "print(0, df['review'].values[0])\n",
    "print(1, df['review'].values[1])\n",
    "print(2, df['review'].values[2])\n",
    "print(3, df['review'].values[3])\n",
    "print(4, df['review'].values[4])"
   ]
  },
  {
   "cell_type": "code",
   "execution_count": 14,
   "id": "2922e111",
   "metadata": {
    "execution": {
     "iopub.execute_input": "2022-07-25T12:50:56.819182Z",
     "iopub.status.busy": "2022-07-25T12:50:56.818545Z",
     "iopub.status.idle": "2022-07-25T12:50:56.827084Z",
     "shell.execute_reply": "2022-07-25T12:50:56.825945Z"
    },
    "papermill": {
     "duration": 0.032245,
     "end_time": "2022-07-25T12:50:56.829363",
     "exception": false,
     "start_time": "2022-07-25T12:50:56.797118",
     "status": "completed"
    },
    "tags": []
   },
   "outputs": [],
   "source": [
    "# replacing // with empty space and etc if present\n",
    "# https://stackoverflow.com/questions/33404752/removing-emojis-from-a-string-in-python\n",
    "from tqdm import tqdm\n",
    "def preprocess_text(text_data):\n",
    "    preprocessed_text = []\n",
    "    # tqdm is for printing the status bar\n",
    "    for sentance in tqdm(text_data):\n",
    "        sent = decontracted(sentance)\n",
    "        sent = sent.replace('\\\\r', ' ')\n",
    "        sent = sent.replace('\\\\n', ' ')\n",
    "        sent = sent.replace('\\\\\"', ' ')\n",
    "        sent = re.sub('[^A-Za-z0-9]+', ' ', sent)\n",
    "        # https://gist.github.com/sebleier/554280\n",
    "        emoji_pattern = re.compile(\"[\"\n",
    "        u\"\\U0001F600-\\U0001F64F\"  # emoticons\n",
    "        u\"\\U0001F300-\\U0001F5FF\"  # symbols & pictographs\n",
    "        u\"\\U0001F680-\\U0001F6FF\"  # transport & map symbols\n",
    "        u\"\\U0001F1E0-\\U0001F1FF\"  # flags (iOS)\n",
    "                           \"]+\", flags=re.UNICODE)\n",
    "        sent = emoji_pattern.sub(r'', sent)\n",
    "        sent = ' '.join(e for e in sent.split() if e.lower() not in stopwords)\n",
    "        preprocessed_text.append(sent.lower().strip())\n",
    "    return preprocessed_text"
   ]
  },
  {
   "cell_type": "code",
   "execution_count": 15,
   "id": "fbc7fc59",
   "metadata": {
    "execution": {
     "iopub.execute_input": "2022-07-25T12:50:56.871938Z",
     "iopub.status.busy": "2022-07-25T12:50:56.871275Z",
     "iopub.status.idle": "2022-07-25T12:50:56.891733Z",
     "shell.execute_reply": "2022-07-25T12:50:56.890077Z"
    },
    "papermill": {
     "duration": 0.044575,
     "end_time": "2022-07-25T12:50:56.893934",
     "exception": false,
     "start_time": "2022-07-25T12:50:56.849359",
     "status": "completed"
    },
    "tags": []
   },
   "outputs": [
    {
     "name": "stderr",
     "output_type": "stream",
     "text": [
      "100%|██████████| 2/2 [00:00<00:00, 1790.52it/s]\n"
     ]
    },
    {
     "data": {
      "text/plain": [
       "['emoji caused frustration users heck supposed use emoji',\n",
       " 'heck supposed use emoji']"
      ]
     },
     "execution_count": 15,
     "metadata": {},
     "output_type": "execute_result"
    }
   ],
   "source": [
    "text = ['For some, emoji have caused frustration for users (how the heck are you supposed to use the 🙃 emoji?',\n",
    "        '(how the heck are you supposed to use the 🙃 emoji?']\n",
    "preprocess_text(text)"
   ]
  },
  {
   "cell_type": "code",
   "execution_count": 16,
   "id": "0302512b",
   "metadata": {
    "execution": {
     "iopub.execute_input": "2022-07-25T12:50:56.937723Z",
     "iopub.status.busy": "2022-07-25T12:50:56.937278Z",
     "iopub.status.idle": "2022-07-25T12:50:57.650488Z",
     "shell.execute_reply": "2022-07-25T12:50:57.649186Z"
    },
    "papermill": {
     "duration": 0.738109,
     "end_time": "2022-07-25T12:50:57.652631",
     "exception": false,
     "start_time": "2022-07-25T12:50:56.914522",
     "status": "completed"
    },
    "tags": []
   },
   "outputs": [
    {
     "name": "stderr",
     "output_type": "stream",
     "text": [
      "100%|██████████| 9976/9976 [00:00<00:00, 14173.79it/s]\n"
     ]
    }
   ],
   "source": [
    "preprocessed_review = preprocess_text(df['review'].values)"
   ]
  },
  {
   "cell_type": "code",
   "execution_count": 17,
   "id": "b32c09a7",
   "metadata": {
    "execution": {
     "iopub.execute_input": "2022-07-25T12:50:57.696626Z",
     "iopub.status.busy": "2022-07-25T12:50:57.696211Z",
     "iopub.status.idle": "2022-07-25T12:50:57.703679Z",
     "shell.execute_reply": "2022-07-25T12:50:57.702567Z"
    },
    "papermill": {
     "duration": 0.03276,
     "end_time": "2022-07-25T12:50:57.706605",
     "exception": false,
     "start_time": "2022-07-25T12:50:57.673845",
     "status": "completed"
    },
    "tags": []
   },
   "outputs": [
    {
     "name": "stdout",
     "output_type": "stream",
     "text": [
      "0 nice produt like design lot easy carry looked stylish read\n",
      "1 awesome sound pretty see nd sound quality good wish take product loved product read\n",
      "2 awesome sound quality pros 7 8 hrs battery life including 45 mins approx call time awesome sound output bass treble really clear without equaliser equaliser sound wary depends handset sound quality weightless carry head toomic good traffic not good 3 25 5 3 5mm option really important mention really expecting leading brands implement consvery tight ears adjusters ok tight read\n",
      "3 think good product not per quality also design quite good using product january pandamic situation became useful helpful overall bass sound quality pretty good another thing give sigh relief provide wire help case lacking charges read\n",
      "4 awesome bass sound quality good bettary long life purchase rs 999 really grateful product not forget likeread\n"
     ]
    }
   ],
   "source": [
    "# text after preprocessing\n",
    "print(0, preprocessed_review[0])\n",
    "print(1, preprocessed_review[1])\n",
    "print(2, preprocessed_review[2])\n",
    "print(3, preprocessed_review[3])\n",
    "print(4, preprocessed_review[4])"
   ]
  },
  {
   "cell_type": "code",
   "execution_count": 18,
   "id": "4f15d99c",
   "metadata": {
    "execution": {
     "iopub.execute_input": "2022-07-25T12:50:57.751391Z",
     "iopub.status.busy": "2022-07-25T12:50:57.750667Z",
     "iopub.status.idle": "2022-07-25T12:51:01.271810Z",
     "shell.execute_reply": "2022-07-25T12:51:01.270625Z"
    },
    "papermill": {
     "duration": 3.546029,
     "end_time": "2022-07-25T12:51:01.274508",
     "exception": false,
     "start_time": "2022-07-25T12:50:57.728479",
     "status": "completed"
    },
    "tags": []
   },
   "outputs": [
    {
     "name": "stderr",
     "output_type": "stream",
     "text": [
      "100%|██████████| 9976/9976 [00:02<00:00, 3683.56it/s]\n"
     ]
    }
   ],
   "source": [
    "# sentiment analyzing\n",
    "import nltk\n",
    "from nltk.sentiment.vader import SentimentIntensityAnalyzer\n",
    "\n",
    "sent = SentimentIntensityAnalyzer()\n",
    "neg = []\n",
    "neu = []\n",
    "pos = []\n",
    "com = []\n",
    "def update(k):\n",
    "    neg.append(k[\"neg\"])    \n",
    "    pos.append(k[\"pos\"])\n",
    "    neu.append(k[\"neu\"])\n",
    "    com.append(k[\"compound\"])\n",
    "\n",
    "for i in tqdm(df['review']):\n",
    "    update(sent.polarity_scores(i))\n",
    "\n",
    "df[\"negative\"] = neg\n",
    "df[\"neutral\"] = neu \n",
    "df[\"positive\"] = pos  \n",
    "df[\"compound\"] = com"
   ]
  },
  {
   "cell_type": "code",
   "execution_count": 19,
   "id": "5b783433",
   "metadata": {
    "execution": {
     "iopub.execute_input": "2022-07-25T12:51:01.322848Z",
     "iopub.status.busy": "2022-07-25T12:51:01.322458Z",
     "iopub.status.idle": "2022-07-25T12:51:01.336586Z",
     "shell.execute_reply": "2022-07-25T12:51:01.335506Z"
    },
    "papermill": {
     "duration": 0.04119,
     "end_time": "2022-07-25T12:51:01.338974",
     "exception": false,
     "start_time": "2022-07-25T12:51:01.297784",
     "status": "completed"
    },
    "tags": []
   },
   "outputs": [
    {
     "data": {
      "text/html": [
       "<div>\n",
       "<style scoped>\n",
       "    .dataframe tbody tr th:only-of-type {\n",
       "        vertical-align: middle;\n",
       "    }\n",
       "\n",
       "    .dataframe tbody tr th {\n",
       "        vertical-align: top;\n",
       "    }\n",
       "\n",
       "    .dataframe thead th {\n",
       "        text-align: right;\n",
       "    }\n",
       "</style>\n",
       "<table border=\"1\" class=\"dataframe\">\n",
       "  <thead>\n",
       "    <tr style=\"text-align: right;\">\n",
       "      <th></th>\n",
       "      <th>review</th>\n",
       "      <th>rating</th>\n",
       "      <th>negative</th>\n",
       "      <th>neutral</th>\n",
       "      <th>positive</th>\n",
       "      <th>compound</th>\n",
       "    </tr>\n",
       "  </thead>\n",
       "  <tbody>\n",
       "    <tr>\n",
       "      <th>0</th>\n",
       "      <td>It was nice produt. I like it's design a lot. ...</td>\n",
       "      <td>5</td>\n",
       "      <td>0.0</td>\n",
       "      <td>0.613</td>\n",
       "      <td>0.387</td>\n",
       "      <td>0.8020</td>\n",
       "    </tr>\n",
       "    <tr>\n",
       "      <th>1</th>\n",
       "      <td>awesome sound....very pretty to see this nd th...</td>\n",
       "      <td>5</td>\n",
       "      <td>0.0</td>\n",
       "      <td>0.517</td>\n",
       "      <td>0.483</td>\n",
       "      <td>0.9501</td>\n",
       "    </tr>\n",
       "    <tr>\n",
       "      <th>2</th>\n",
       "      <td>awesome sound quality. pros 7-8 hrs of battery...</td>\n",
       "      <td>4</td>\n",
       "      <td>0.0</td>\n",
       "      <td>0.823</td>\n",
       "      <td>0.177</td>\n",
       "      <td>0.9310</td>\n",
       "    </tr>\n",
       "    <tr>\n",
       "      <th>3</th>\n",
       "      <td>I think it is such a good product not only as ...</td>\n",
       "      <td>5</td>\n",
       "      <td>0.0</td>\n",
       "      <td>0.672</td>\n",
       "      <td>0.328</td>\n",
       "      <td>0.9851</td>\n",
       "    </tr>\n",
       "    <tr>\n",
       "      <th>4</th>\n",
       "      <td>awesome bass sound quality very good bettary l...</td>\n",
       "      <td>5</td>\n",
       "      <td>0.0</td>\n",
       "      <td>0.595</td>\n",
       "      <td>0.405</td>\n",
       "      <td>0.9053</td>\n",
       "    </tr>\n",
       "  </tbody>\n",
       "</table>\n",
       "</div>"
      ],
      "text/plain": [
       "                                              review  rating  negative  \\\n",
       "0  It was nice produt. I like it's design a lot. ...       5       0.0   \n",
       "1  awesome sound....very pretty to see this nd th...       5       0.0   \n",
       "2  awesome sound quality. pros 7-8 hrs of battery...       4       0.0   \n",
       "3  I think it is such a good product not only as ...       5       0.0   \n",
       "4  awesome bass sound quality very good bettary l...       5       0.0   \n",
       "\n",
       "   neutral  positive  compound  \n",
       "0    0.613     0.387    0.8020  \n",
       "1    0.517     0.483    0.9501  \n",
       "2    0.823     0.177    0.9310  \n",
       "3    0.672     0.328    0.9851  \n",
       "4    0.595     0.405    0.9053  "
      ]
     },
     "execution_count": 19,
     "metadata": {},
     "output_type": "execute_result"
    }
   ],
   "source": [
    "df.head()"
   ]
  },
  {
   "cell_type": "code",
   "execution_count": 20,
   "id": "733f29e9",
   "metadata": {
    "execution": {
     "iopub.execute_input": "2022-07-25T12:51:01.389519Z",
     "iopub.status.busy": "2022-07-25T12:51:01.388422Z",
     "iopub.status.idle": "2022-07-25T12:51:01.480018Z",
     "shell.execute_reply": "2022-07-25T12:51:01.478907Z"
    },
    "papermill": {
     "duration": 0.11924,
     "end_time": "2022-07-25T12:51:01.482804",
     "exception": false,
     "start_time": "2022-07-25T12:51:01.363564",
     "status": "completed"
    },
    "tags": []
   },
   "outputs": [],
   "source": [
    "# assigning 1 to the ratings >=4 rest 0\n",
    "pos_neg = []\n",
    "for i in range(len(df['rating'])):\n",
    "    if df['rating'][i] >= 4:\n",
    "        pos_neg.append(1)\n",
    "    else:\n",
    "        pos_neg.append(0)"
   ]
  },
  {
   "cell_type": "code",
   "execution_count": 21,
   "id": "d1c9ed5a",
   "metadata": {
    "execution": {
     "iopub.execute_input": "2022-07-25T12:51:01.531868Z",
     "iopub.status.busy": "2022-07-25T12:51:01.531257Z",
     "iopub.status.idle": "2022-07-25T12:51:01.540861Z",
     "shell.execute_reply": "2022-07-25T12:51:01.539651Z"
    },
    "papermill": {
     "duration": 0.037189,
     "end_time": "2022-07-25T12:51:01.543464",
     "exception": false,
     "start_time": "2022-07-25T12:51:01.506275",
     "status": "completed"
    },
    "tags": []
   },
   "outputs": [],
   "source": [
    "df['class label'] = pos_neg"
   ]
  },
  {
   "cell_type": "code",
   "execution_count": 22,
   "id": "2b655799",
   "metadata": {
    "execution": {
     "iopub.execute_input": "2022-07-25T12:51:01.592599Z",
     "iopub.status.busy": "2022-07-25T12:51:01.591504Z",
     "iopub.status.idle": "2022-07-25T12:51:01.605571Z",
     "shell.execute_reply": "2022-07-25T12:51:01.604593Z"
    },
    "papermill": {
     "duration": 0.040714,
     "end_time": "2022-07-25T12:51:01.607691",
     "exception": false,
     "start_time": "2022-07-25T12:51:01.566977",
     "status": "completed"
    },
    "tags": []
   },
   "outputs": [
    {
     "data": {
      "text/html": [
       "<div>\n",
       "<style scoped>\n",
       "    .dataframe tbody tr th:only-of-type {\n",
       "        vertical-align: middle;\n",
       "    }\n",
       "\n",
       "    .dataframe tbody tr th {\n",
       "        vertical-align: top;\n",
       "    }\n",
       "\n",
       "    .dataframe thead th {\n",
       "        text-align: right;\n",
       "    }\n",
       "</style>\n",
       "<table border=\"1\" class=\"dataframe\">\n",
       "  <thead>\n",
       "    <tr style=\"text-align: right;\">\n",
       "      <th></th>\n",
       "      <th>review</th>\n",
       "      <th>rating</th>\n",
       "      <th>negative</th>\n",
       "      <th>neutral</th>\n",
       "      <th>positive</th>\n",
       "      <th>compound</th>\n",
       "      <th>class label</th>\n",
       "    </tr>\n",
       "  </thead>\n",
       "  <tbody>\n",
       "    <tr>\n",
       "      <th>0</th>\n",
       "      <td>It was nice produt. I like it's design a lot. ...</td>\n",
       "      <td>5</td>\n",
       "      <td>0.0</td>\n",
       "      <td>0.613</td>\n",
       "      <td>0.387</td>\n",
       "      <td>0.8020</td>\n",
       "      <td>1</td>\n",
       "    </tr>\n",
       "    <tr>\n",
       "      <th>1</th>\n",
       "      <td>awesome sound....very pretty to see this nd th...</td>\n",
       "      <td>5</td>\n",
       "      <td>0.0</td>\n",
       "      <td>0.517</td>\n",
       "      <td>0.483</td>\n",
       "      <td>0.9501</td>\n",
       "      <td>1</td>\n",
       "    </tr>\n",
       "    <tr>\n",
       "      <th>2</th>\n",
       "      <td>awesome sound quality. pros 7-8 hrs of battery...</td>\n",
       "      <td>4</td>\n",
       "      <td>0.0</td>\n",
       "      <td>0.823</td>\n",
       "      <td>0.177</td>\n",
       "      <td>0.9310</td>\n",
       "      <td>1</td>\n",
       "    </tr>\n",
       "    <tr>\n",
       "      <th>3</th>\n",
       "      <td>I think it is such a good product not only as ...</td>\n",
       "      <td>5</td>\n",
       "      <td>0.0</td>\n",
       "      <td>0.672</td>\n",
       "      <td>0.328</td>\n",
       "      <td>0.9851</td>\n",
       "      <td>1</td>\n",
       "    </tr>\n",
       "    <tr>\n",
       "      <th>4</th>\n",
       "      <td>awesome bass sound quality very good bettary l...</td>\n",
       "      <td>5</td>\n",
       "      <td>0.0</td>\n",
       "      <td>0.595</td>\n",
       "      <td>0.405</td>\n",
       "      <td>0.9053</td>\n",
       "      <td>1</td>\n",
       "    </tr>\n",
       "  </tbody>\n",
       "</table>\n",
       "</div>"
      ],
      "text/plain": [
       "                                              review  rating  negative  \\\n",
       "0  It was nice produt. I like it's design a lot. ...       5       0.0   \n",
       "1  awesome sound....very pretty to see this nd th...       5       0.0   \n",
       "2  awesome sound quality. pros 7-8 hrs of battery...       4       0.0   \n",
       "3  I think it is such a good product not only as ...       5       0.0   \n",
       "4  awesome bass sound quality very good bettary l...       5       0.0   \n",
       "\n",
       "   neutral  positive  compound  class label  \n",
       "0    0.613     0.387    0.8020            1  \n",
       "1    0.517     0.483    0.9501            1  \n",
       "2    0.823     0.177    0.9310            1  \n",
       "3    0.672     0.328    0.9851            1  \n",
       "4    0.595     0.405    0.9053            1  "
      ]
     },
     "execution_count": 22,
     "metadata": {},
     "output_type": "execute_result"
    }
   ],
   "source": [
    "df.head()"
   ]
  },
  {
   "cell_type": "code",
   "execution_count": 23,
   "id": "3de09833",
   "metadata": {
    "execution": {
     "iopub.execute_input": "2022-07-25T12:51:01.657445Z",
     "iopub.status.busy": "2022-07-25T12:51:01.656709Z",
     "iopub.status.idle": "2022-07-25T12:51:01.664326Z",
     "shell.execute_reply": "2022-07-25T12:51:01.663074Z"
    },
    "papermill": {
     "duration": 0.035382,
     "end_time": "2022-07-25T12:51:01.666780",
     "exception": false,
     "start_time": "2022-07-25T12:51:01.631398",
     "status": "completed"
    },
    "tags": []
   },
   "outputs": [
    {
     "data": {
      "text/plain": [
       "0.991"
      ]
     },
     "execution_count": 23,
     "metadata": {},
     "output_type": "execute_result"
    }
   ],
   "source": [
    "# taking max of compound centiment\n",
    "df['compound'].max()"
   ]
  },
  {
   "cell_type": "code",
   "execution_count": 24,
   "id": "d0cc3172",
   "metadata": {
    "execution": {
     "iopub.execute_input": "2022-07-25T12:51:01.718798Z",
     "iopub.status.busy": "2022-07-25T12:51:01.718052Z",
     "iopub.status.idle": "2022-07-25T12:51:01.725141Z",
     "shell.execute_reply": "2022-07-25T12:51:01.724304Z"
    },
    "papermill": {
     "duration": 0.035865,
     "end_time": "2022-07-25T12:51:01.727287",
     "exception": false,
     "start_time": "2022-07-25T12:51:01.691422",
     "status": "completed"
    },
    "tags": []
   },
   "outputs": [
    {
     "data": {
      "text/plain": [
       "-0.9587"
      ]
     },
     "execution_count": 24,
     "metadata": {},
     "output_type": "execute_result"
    }
   ],
   "source": [
    "# taking min of compound centiment\n",
    "df['compound'].min()"
   ]
  },
  {
   "cell_type": "code",
   "execution_count": 25,
   "id": "eaabe55f",
   "metadata": {
    "execution": {
     "iopub.execute_input": "2022-07-25T12:51:01.777128Z",
     "iopub.status.busy": "2022-07-25T12:51:01.776361Z",
     "iopub.status.idle": "2022-07-25T12:51:02.617116Z",
     "shell.execute_reply": "2022-07-25T12:51:02.615973Z"
    },
    "papermill": {
     "duration": 0.868839,
     "end_time": "2022-07-25T12:51:02.619962",
     "exception": false,
     "start_time": "2022-07-25T12:51:01.751123",
     "status": "completed"
    },
    "tags": []
   },
   "outputs": [
    {
     "name": "stdout",
     "output_type": "stream",
     "text": [
      "1\n"
     ]
    }
   ],
   "source": [
    "# only one compount sentiment is equal to min value of sentiment\n",
    "c=0\n",
    "for i in range(len(df['compound'])):\n",
    "    if df['compound'][i] == df['compound'].min():\n",
    "        c+=1\n",
    "print(c)"
   ]
  },
  {
   "cell_type": "code",
   "execution_count": 26,
   "id": "f99a9055",
   "metadata": {
    "execution": {
     "iopub.execute_input": "2022-07-25T12:51:02.670644Z",
     "iopub.status.busy": "2022-07-25T12:51:02.669747Z",
     "iopub.status.idle": "2022-07-25T12:51:02.819475Z",
     "shell.execute_reply": "2022-07-25T12:51:02.818148Z"
    },
    "papermill": {
     "duration": 0.178553,
     "end_time": "2022-07-25T12:51:02.822810",
     "exception": false,
     "start_time": "2022-07-25T12:51:02.644257",
     "status": "completed"
    },
    "tags": []
   },
   "outputs": [
    {
     "name": "stdout",
     "output_type": "stream",
     "text": [
      "6737\n"
     ]
    }
   ],
   "source": [
    "# compound sentiment <= 0.8 and >= 0.0\n",
    "c=0\n",
    "for i in range(len(df['compound'])):\n",
    "    if df['compound'][i] <= 0.8 and df['compound'][i] >= 0.0:\n",
    "        c+=1\n",
    "print(c)"
   ]
  },
  {
   "cell_type": "code",
   "execution_count": 27,
   "id": "a38cfb9f",
   "metadata": {
    "execution": {
     "iopub.execute_input": "2022-07-25T12:51:02.873482Z",
     "iopub.status.busy": "2022-07-25T12:51:02.872838Z",
     "iopub.status.idle": "2022-07-25T12:51:02.878786Z",
     "shell.execute_reply": "2022-07-25T12:51:02.877379Z"
    },
    "papermill": {
     "duration": 0.034038,
     "end_time": "2022-07-25T12:51:02.881022",
     "exception": false,
     "start_time": "2022-07-25T12:51:02.846984",
     "status": "completed"
    },
    "tags": []
   },
   "outputs": [
    {
     "name": "stdout",
     "output_type": "stream",
     "text": [
      "67.53207698476344\n"
     ]
    }
   ],
   "source": [
    "# 67.5% compound sentiment lies in between 0.0 and 0.8\n",
    "total_len = len(df['compound'])\n",
    "perc = (c/total_len)*100\n",
    "print(perc)"
   ]
  },
  {
   "cell_type": "code",
   "execution_count": 28,
   "id": "daa4bb9e",
   "metadata": {
    "execution": {
     "iopub.execute_input": "2022-07-25T12:51:02.932110Z",
     "iopub.status.busy": "2022-07-25T12:51:02.931747Z",
     "iopub.status.idle": "2022-07-25T12:51:03.023231Z",
     "shell.execute_reply": "2022-07-25T12:51:03.021915Z"
    },
    "papermill": {
     "duration": 0.12016,
     "end_time": "2022-07-25T12:51:03.026202",
     "exception": false,
     "start_time": "2022-07-25T12:51:02.906042",
     "status": "completed"
    },
    "tags": []
   },
   "outputs": [
    {
     "name": "stdout",
     "output_type": "stream",
     "text": [
      "8091\n"
     ]
    }
   ],
   "source": [
    "# where class label == 1\n",
    "c=0\n",
    "for i in range(len(df['class label'])):\n",
    "    if df['class label'][i] == 1:\n",
    "        c+=1\n",
    "print(c)"
   ]
  },
  {
   "cell_type": "code",
   "execution_count": 29,
   "id": "e49c31e9",
   "metadata": {
    "execution": {
     "iopub.execute_input": "2022-07-25T12:51:03.077640Z",
     "iopub.status.busy": "2022-07-25T12:51:03.076737Z",
     "iopub.status.idle": "2022-07-25T12:51:03.083402Z",
     "shell.execute_reply": "2022-07-25T12:51:03.082158Z"
    },
    "papermill": {
     "duration": 0.035267,
     "end_time": "2022-07-25T12:51:03.086265",
     "exception": false,
     "start_time": "2022-07-25T12:51:03.050998",
     "status": "completed"
    },
    "tags": []
   },
   "outputs": [
    {
     "name": "stdout",
     "output_type": "stream",
     "text": [
      "81.1046511627907\n"
     ]
    }
   ],
   "source": [
    "# total % of class label == 1\n",
    "total_len = len(df['class label'])\n",
    "perc = (c/total_len)*100\n",
    "print(perc)"
   ]
  },
  {
   "cell_type": "markdown",
   "id": "8acc1acb",
   "metadata": {
    "papermill": {
     "duration": 0.023902,
     "end_time": "2022-07-25T12:51:03.135311",
     "exception": false,
     "start_time": "2022-07-25T12:51:03.111409",
     "status": "completed"
    },
    "tags": []
   },
   "source": [
    "**81.1% data is positive imbalance dataset**"
   ]
  },
  {
   "cell_type": "code",
   "execution_count": 30,
   "id": "5e0f3801",
   "metadata": {
    "execution": {
     "iopub.execute_input": "2022-07-25T12:51:03.188581Z",
     "iopub.status.busy": "2022-07-25T12:51:03.187785Z",
     "iopub.status.idle": "2022-07-25T12:51:03.320934Z",
     "shell.execute_reply": "2022-07-25T12:51:03.319608Z"
    },
    "papermill": {
     "duration": 0.16474,
     "end_time": "2022-07-25T12:51:03.324409",
     "exception": false,
     "start_time": "2022-07-25T12:51:03.159669",
     "status": "completed"
    },
    "tags": []
   },
   "outputs": [
    {
     "name": "stdout",
     "output_type": "stream",
     "text": [
      "1    8091\n",
      "0    1885\n",
      "Name: class label, dtype: int64\n"
     ]
    },
    {
     "data": {
      "text/plain": [
       "<AxesSubplot:ylabel='Type'>"
      ]
     },
     "execution_count": 30,
     "metadata": {},
     "output_type": "execute_result"
    },
    {
     "data": {
      "image/png": "[encoded data removed]",
      "text/plain": [
       "<Figure size 432x288 with 1 Axes>"
      ]
     },
     "metadata": {},
     "output_type": "display_data"
    }
   ],
   "source": [
    "# vizuals of class label\n",
    "print(df[\"class label\"].value_counts())\n",
    "\n",
    "df.groupby('class label').size().plot(kind='pie',\n",
    "                                       y = \"class label\",\n",
    "                                       label = \"Type\",\n",
    "                                       autopct='%1.1f%%')"
   ]
  },
  {
   "cell_type": "code",
   "execution_count": 31,
   "id": "38edb988",
   "metadata": {
    "execution": {
     "iopub.execute_input": "2022-07-25T12:51:03.419281Z",
     "iopub.status.busy": "2022-07-25T12:51:03.418682Z",
     "iopub.status.idle": "2022-07-25T12:51:03.422232Z",
     "shell.execute_reply": "2022-07-25T12:51:03.421581Z"
    },
    "papermill": {
     "duration": 0.049344,
     "end_time": "2022-07-25T12:51:03.424020",
     "exception": false,
     "start_time": "2022-07-25T12:51:03.374676",
     "status": "completed"
    },
    "tags": []
   },
   "outputs": [],
   "source": [
    "# coppy df\n",
    "final_data = df  "
   ]
  },
  {
   "cell_type": "code",
   "execution_count": 32,
   "id": "bd3cafd9",
   "metadata": {
    "execution": {
     "iopub.execute_input": "2022-07-25T12:51:03.475200Z",
     "iopub.status.busy": "2022-07-25T12:51:03.474553Z",
     "iopub.status.idle": "2022-07-25T12:51:03.484095Z",
     "shell.execute_reply": "2022-07-25T12:51:03.482484Z"
    },
    "papermill": {
     "duration": 0.037615,
     "end_time": "2022-07-25T12:51:03.486320",
     "exception": false,
     "start_time": "2022-07-25T12:51:03.448705",
     "status": "completed"
    },
    "tags": []
   },
   "outputs": [
    {
     "name": "stdout",
     "output_type": "stream",
     "text": [
      "(8091, 7)\n",
      "(1885, 7)\n"
     ]
    }
   ],
   "source": [
    "rating_4_and_more = final_data[final_data[\"rating\"] >= 4]\n",
    "rating_less_than_4  = final_data[final_data[\"rating\"] < 4]\n",
    "print(rating_4_and_more.shape)\n",
    "print(rating_less_than_4.shape)"
   ]
  },
  {
   "cell_type": "code",
   "execution_count": 33,
   "id": "d24fac53",
   "metadata": {
    "execution": {
     "iopub.execute_input": "2022-07-25T12:51:03.538661Z",
     "iopub.status.busy": "2022-07-25T12:51:03.537977Z",
     "iopub.status.idle": "2022-07-25T12:51:03.545818Z",
     "shell.execute_reply": "2022-07-25T12:51:03.544723Z"
    },
    "papermill": {
     "duration": 0.036513,
     "end_time": "2022-07-25T12:51:03.548094",
     "exception": false,
     "start_time": "2022-07-25T12:51:03.511581",
     "status": "completed"
    },
    "tags": []
   },
   "outputs": [
    {
     "name": "stdout",
     "output_type": "stream",
     "text": [
      "(8091, 7)\n"
     ]
    }
   ],
   "source": [
    "#upsampling\n",
    "from sklearn.utils import resample\n",
    "rating_less_than_4_upsample = resample(rating_less_than_4,\n",
    "             replace=True,\n",
    "             n_samples=len(rating_4_and_more),\n",
    "             random_state=42)\n",
    "\n",
    "print(rating_less_than_4_upsample.shape)"
   ]
  },
  {
   "cell_type": "code",
   "execution_count": 34,
   "id": "1fb5bdd5",
   "metadata": {
    "execution": {
     "iopub.execute_input": "2022-07-25T12:51:03.599735Z",
     "iopub.status.busy": "2022-07-25T12:51:03.598990Z",
     "iopub.status.idle": "2022-07-25T12:51:03.692471Z",
     "shell.execute_reply": "2022-07-25T12:51:03.691200Z"
    },
    "papermill": {
     "duration": 0.123193,
     "end_time": "2022-07-25T12:51:03.696038",
     "exception": false,
     "start_time": "2022-07-25T12:51:03.572845",
     "status": "completed"
    },
    "tags": []
   },
   "outputs": [
    {
     "name": "stdout",
     "output_type": "stream",
     "text": [
      "0    8091\n",
      "1    8091\n",
      "Name: class label, dtype: int64\n"
     ]
    },
    {
     "data": {
      "text/plain": [
       "<AxesSubplot:ylabel='Type'>"
      ]
     },
     "execution_count": 34,
     "metadata": {},
     "output_type": "execute_result"
    },
    {
     "data": {
      "image/png": "[encoded data removed]",
      "text/plain": [
       "<Figure size 432x288 with 1 Axes>"
      ]
     },
     "metadata": {},
     "output_type": "display_data"
    }
   ],
   "source": [
    "# vizuals of class label after upsampling\n",
    "data_up_sampled = pd.concat([rating_less_than_4_upsample, rating_4_and_more])\n",
    "\n",
    "print(data_up_sampled[\"class label\"].value_counts())\n",
    "\n",
    "data_up_sampled.groupby('class label').size().plot(kind='pie',\n",
    "                                       y = \"class label\",\n",
    "                                       label = \"Type\",\n",
    "                                       autopct='%1.1f%%')"
   ]
  },
  {
   "cell_type": "code",
   "execution_count": 35,
   "id": "2300a4b6",
   "metadata": {
    "execution": {
     "iopub.execute_input": "2022-07-25T12:51:03.790523Z",
     "iopub.status.busy": "2022-07-25T12:51:03.789803Z",
     "iopub.status.idle": "2022-07-25T12:51:03.795293Z",
     "shell.execute_reply": "2022-07-25T12:51:03.794572Z"
    },
    "papermill": {
     "duration": 0.053091,
     "end_time": "2022-07-25T12:51:03.797190",
     "exception": false,
     "start_time": "2022-07-25T12:51:03.744099",
     "status": "completed"
    },
    "tags": []
   },
   "outputs": [
    {
     "data": {
      "text/plain": [
       "(16182, 7)"
      ]
     },
     "execution_count": 35,
     "metadata": {},
     "output_type": "execute_result"
    }
   ],
   "source": [
    "data_up_sampled.shape"
   ]
  },
  {
   "cell_type": "markdown",
   "id": "67dc2ff4",
   "metadata": {
    "papermill": {
     "duration": 0.02518,
     "end_time": "2022-07-25T12:51:03.847892",
     "exception": false,
     "start_time": "2022-07-25T12:51:03.822712",
     "status": "completed"
    },
    "tags": []
   },
   "source": [
    "# ***Vectorizing text data***"
   ]
  },
  {
   "cell_type": "code",
   "execution_count": 36,
   "id": "ec789c0c",
   "metadata": {
    "execution": {
     "iopub.execute_input": "2022-07-25T12:51:03.900667Z",
     "iopub.status.busy": "2022-07-25T12:51:03.900231Z",
     "iopub.status.idle": "2022-07-25T12:51:03.907790Z",
     "shell.execute_reply": "2022-07-25T12:51:03.906687Z"
    },
    "papermill": {
     "duration": 0.036592,
     "end_time": "2022-07-25T12:51:03.910111",
     "exception": false,
     "start_time": "2022-07-25T12:51:03.873519",
     "status": "completed"
    },
    "tags": []
   },
   "outputs": [],
   "source": [
    "y = data_up_sampled['class label'].values \n",
    "X = data_up_sampled.drop(['class label'], axis=1)"
   ]
  },
  {
   "cell_type": "code",
   "execution_count": 37,
   "id": "a6b0764c",
   "metadata": {
    "execution": {
     "iopub.execute_input": "2022-07-25T12:51:03.962161Z",
     "iopub.status.busy": "2022-07-25T12:51:03.961787Z",
     "iopub.status.idle": "2022-07-25T12:51:03.977666Z",
     "shell.execute_reply": "2022-07-25T12:51:03.976883Z"
    },
    "papermill": {
     "duration": 0.044237,
     "end_time": "2022-07-25T12:51:03.979738",
     "exception": false,
     "start_time": "2022-07-25T12:51:03.935501",
     "status": "completed"
    },
    "tags": []
   },
   "outputs": [],
   "source": [
    "#splitting data\n",
    "from sklearn.model_selection import train_test_split\n",
    "X_train, X_test, y_train, y_test = train_test_split(X, y, test_size=0.33, stratify=y, random_state = 42)"
   ]
  },
  {
   "cell_type": "code",
   "execution_count": 38,
   "id": "199f5068",
   "metadata": {
    "execution": {
     "iopub.execute_input": "2022-07-25T12:51:04.032854Z",
     "iopub.status.busy": "2022-07-25T12:51:04.031751Z",
     "iopub.status.idle": "2022-07-25T12:51:04.045205Z",
     "shell.execute_reply": "2022-07-25T12:51:04.044190Z"
    },
    "papermill": {
     "duration": 0.041774,
     "end_time": "2022-07-25T12:51:04.047194",
     "exception": false,
     "start_time": "2022-07-25T12:51:04.005420",
     "status": "completed"
    },
    "tags": []
   },
   "outputs": [
    {
     "data": {
      "text/html": [
       "<div>\n",
       "<style scoped>\n",
       "    .dataframe tbody tr th:only-of-type {\n",
       "        vertical-align: middle;\n",
       "    }\n",
       "\n",
       "    .dataframe tbody tr th {\n",
       "        vertical-align: top;\n",
       "    }\n",
       "\n",
       "    .dataframe thead th {\n",
       "        text-align: right;\n",
       "    }\n",
       "</style>\n",
       "<table border=\"1\" class=\"dataframe\">\n",
       "  <thead>\n",
       "    <tr style=\"text-align: right;\">\n",
       "      <th></th>\n",
       "      <th>review</th>\n",
       "      <th>rating</th>\n",
       "      <th>negative</th>\n",
       "      <th>neutral</th>\n",
       "      <th>positive</th>\n",
       "      <th>compound</th>\n",
       "    </tr>\n",
       "  </thead>\n",
       "  <tbody>\n",
       "    <tr>\n",
       "      <th>80</th>\n",
       "      <td>I was really excited about the headphones at f...</td>\n",
       "      <td>1</td>\n",
       "      <td>0.211</td>\n",
       "      <td>0.667</td>\n",
       "      <td>0.122</td>\n",
       "      <td>-0.9209</td>\n",
       "    </tr>\n",
       "    <tr>\n",
       "      <th>4701</th>\n",
       "      <td>Excellent productREAD MORE</td>\n",
       "      <td>5</td>\n",
       "      <td>0.000</td>\n",
       "      <td>0.351</td>\n",
       "      <td>0.649</td>\n",
       "      <td>0.5719</td>\n",
       "    </tr>\n",
       "    <tr>\n",
       "      <th>6048</th>\n",
       "      <td>GoodREAD MORE</td>\n",
       "      <td>3</td>\n",
       "      <td>0.000</td>\n",
       "      <td>1.000</td>\n",
       "      <td>0.000</td>\n",
       "      <td>0.0000</td>\n",
       "    </tr>\n",
       "    <tr>\n",
       "      <th>1099</th>\n",
       "      <td>it's battery is very good and sound it's just ...</td>\n",
       "      <td>5</td>\n",
       "      <td>0.000</td>\n",
       "      <td>0.641</td>\n",
       "      <td>0.359</td>\n",
       "      <td>0.9391</td>\n",
       "    </tr>\n",
       "    <tr>\n",
       "      <th>3141</th>\n",
       "      <td>Good as well as the picREAD MORE</td>\n",
       "      <td>5</td>\n",
       "      <td>0.000</td>\n",
       "      <td>0.500</td>\n",
       "      <td>0.500</td>\n",
       "      <td>0.6124</td>\n",
       "    </tr>\n",
       "  </tbody>\n",
       "</table>\n",
       "</div>"
      ],
      "text/plain": [
       "                                                 review  rating  negative  \\\n",
       "80    I was really excited about the headphones at f...       1     0.211   \n",
       "4701                         Excellent productREAD MORE       5     0.000   \n",
       "6048                                      GoodREAD MORE       3     0.000   \n",
       "1099  it's battery is very good and sound it's just ...       5     0.000   \n",
       "3141                   Good as well as the picREAD MORE       5     0.000   \n",
       "\n",
       "      neutral  positive  compound  \n",
       "80      0.667     0.122   -0.9209  \n",
       "4701    0.351     0.649    0.5719  \n",
       "6048    1.000     0.000    0.0000  \n",
       "1099    0.641     0.359    0.9391  \n",
       "3141    0.500     0.500    0.6124  "
      ]
     },
     "execution_count": 38,
     "metadata": {},
     "output_type": "execute_result"
    }
   ],
   "source": [
    "X_train.head()"
   ]
  },
  {
   "cell_type": "markdown",
   "id": "c394fb79",
   "metadata": {
    "papermill": {
     "duration": 0.025156,
     "end_time": "2022-07-25T12:51:04.097944",
     "exception": false,
     "start_time": "2022-07-25T12:51:04.072788",
     "status": "completed"
    },
    "tags": []
   },
   "source": [
    "## ***Preparing data for modeling***"
   ]
  },
  {
   "cell_type": "code",
   "execution_count": 39,
   "id": "3ccbb0aa",
   "metadata": {
    "execution": {
     "iopub.execute_input": "2022-07-25T12:51:04.151777Z",
     "iopub.status.busy": "2022-07-25T12:51:04.150715Z",
     "iopub.status.idle": "2022-07-25T12:51:07.221232Z",
     "shell.execute_reply": "2022-07-25T12:51:07.219820Z"
    },
    "papermill": {
     "duration": 3.099819,
     "end_time": "2022-07-25T12:51:07.223682",
     "exception": false,
     "start_time": "2022-07-25T12:51:04.123863",
     "status": "completed"
    },
    "tags": []
   },
   "outputs": [
    {
     "name": "stdout",
     "output_type": "stream",
     "text": [
      "(10841, 6) (10841,)\n",
      "(5341, 6) (5341,)\n",
      "====================================================================================================\n",
      "After vectorizations\n",
      "(10841, 6087) (10841,)\n",
      "(5341, 6087) (5341,)\n"
     ]
    }
   ],
   "source": [
    "#tfidf vectorizer\n",
    "from sklearn.feature_extraction.text import TfidfVectorizer\n",
    "print(X_train.shape, y_train.shape)\n",
    "print(X_test.shape, y_test.shape)\n",
    "\n",
    "print(\"=\"*100)\n",
    "\n",
    "vectorizer_tfidf = TfidfVectorizer(min_df=10,ngram_range=(1,4), max_features=100000)\n",
    "vectorizer_tfidf.fit(X_train['review'].values)\n",
    "\n",
    "X_train_review_tfidf = vectorizer_tfidf.transform(X_train['review'].values)\n",
    "X_test_review_tfidf = vectorizer_tfidf.transform(X_test['review'].values)\n",
    "\n",
    "print(\"After vectorizations\")\n",
    "print(X_train_review_tfidf.shape, y_train.shape)\n",
    "print(X_test_review_tfidf.shape, y_test.shape)"
   ]
  },
  {
   "cell_type": "code",
   "execution_count": 40,
   "id": "2edd2227",
   "metadata": {
    "execution": {
     "iopub.execute_input": "2022-07-25T12:51:07.276738Z",
     "iopub.status.busy": "2022-07-25T12:51:07.276326Z",
     "iopub.status.idle": "2022-07-25T12:51:07.284761Z",
     "shell.execute_reply": "2022-07-25T12:51:07.283842Z"
    },
    "papermill": {
     "duration": 0.038703,
     "end_time": "2022-07-25T12:51:07.287738",
     "exception": false,
     "start_time": "2022-07-25T12:51:07.249035",
     "status": "completed"
    },
    "tags": []
   },
   "outputs": [
    {
     "name": "stdout",
     "output_type": "stream",
     "text": [
      "After vectorizations\n",
      "(10841, 1) (10841,)\n",
      "(5341, 1) (5341,)\n"
     ]
    }
   ],
   "source": [
    "#normalizing\n",
    "from sklearn.preprocessing import Normalizer\n",
    "\n",
    "normalizer = Normalizer()\n",
    "\n",
    "normalizer.fit(X_train['rating'].values.reshape(-1,1))\n",
    "\n",
    "X_train_rating_norm = normalizer.transform(X_train['rating'].values.reshape(-1,1))\n",
    "X_test_rating_norm = normalizer.transform(X_test['rating'].values.reshape(-1,1))\n",
    "\n",
    "\n",
    "\n",
    "print(\"After vectorizations\")\n",
    "print(X_train_rating_norm.shape, y_train.shape)\n",
    "print(X_test_rating_norm.shape, y_test.shape)"
   ]
  },
  {
   "cell_type": "code",
   "execution_count": 41,
   "id": "ae68426d",
   "metadata": {
    "execution": {
     "iopub.execute_input": "2022-07-25T12:51:07.342954Z",
     "iopub.status.busy": "2022-07-25T12:51:07.342176Z",
     "iopub.status.idle": "2022-07-25T12:51:07.351833Z",
     "shell.execute_reply": "2022-07-25T12:51:07.350493Z"
    },
    "papermill": {
     "duration": 0.039269,
     "end_time": "2022-07-25T12:51:07.354071",
     "exception": false,
     "start_time": "2022-07-25T12:51:07.314802",
     "status": "completed"
    },
    "tags": []
   },
   "outputs": [
    {
     "name": "stdout",
     "output_type": "stream",
     "text": [
      "After vectorizations\n",
      "(10841, 1) (10841,)\n",
      "(5341, 1) (5341,)\n"
     ]
    }
   ],
   "source": [
    "normalizer.fit(X_train['negative'].values.reshape(-1,1))\n",
    "\n",
    "X_train_neg_norm = normalizer.transform(X_train['negative'].values.reshape(-1,1))\n",
    "X_test_neg_norm = normalizer.transform(X_test['negative'].values.reshape(-1,1))\n",
    "\n",
    "\n",
    "\n",
    "print(\"After vectorizations\")\n",
    "print(X_train_neg_norm.shape, y_train.shape)\n",
    "print(X_test_neg_norm.shape, y_test.shape)"
   ]
  },
  {
   "cell_type": "code",
   "execution_count": 42,
   "id": "903c9d3d",
   "metadata": {
    "execution": {
     "iopub.execute_input": "2022-07-25T12:51:07.408126Z",
     "iopub.status.busy": "2022-07-25T12:51:07.407327Z",
     "iopub.status.idle": "2022-07-25T12:51:07.417095Z",
     "shell.execute_reply": "2022-07-25T12:51:07.415394Z"
    },
    "papermill": {
     "duration": 0.039709,
     "end_time": "2022-07-25T12:51:07.419630",
     "exception": false,
     "start_time": "2022-07-25T12:51:07.379921",
     "status": "completed"
    },
    "tags": []
   },
   "outputs": [
    {
     "name": "stdout",
     "output_type": "stream",
     "text": [
      "After vectorizations\n",
      "(10841, 1) (10841,)\n",
      "(5341, 1) (5341,)\n"
     ]
    }
   ],
   "source": [
    "normalizer.fit(X_train['neutral'].values.reshape(-1,1))\n",
    "\n",
    "X_train_neu_norm = normalizer.transform(X_train['neutral'].values.reshape(-1,1))\n",
    "X_test_neu_norm = normalizer.transform(X_test['neutral'].values.reshape(-1,1))\n",
    "\n",
    "\n",
    "\n",
    "print(\"After vectorizations\")\n",
    "print(X_train_neu_norm.shape, y_train.shape)\n",
    "print(X_test_neu_norm.shape, y_test.shape)"
   ]
  },
  {
   "cell_type": "code",
   "execution_count": 43,
   "id": "3c2f2aee",
   "metadata": {
    "execution": {
     "iopub.execute_input": "2022-07-25T12:51:07.473414Z",
     "iopub.status.busy": "2022-07-25T12:51:07.472616Z",
     "iopub.status.idle": "2022-07-25T12:51:07.481971Z",
     "shell.execute_reply": "2022-07-25T12:51:07.480555Z"
    },
    "papermill": {
     "duration": 0.039576,
     "end_time": "2022-07-25T12:51:07.485239",
     "exception": false,
     "start_time": "2022-07-25T12:51:07.445663",
     "status": "completed"
    },
    "tags": []
   },
   "outputs": [
    {
     "name": "stdout",
     "output_type": "stream",
     "text": [
      "After vectorizations\n",
      "(10841, 1) (10841,)\n",
      "(5341, 1) (5341,)\n"
     ]
    }
   ],
   "source": [
    "normalizer.fit(X_train['positive'].values.reshape(-1,1))\n",
    "\n",
    "X_train_pos_norm = normalizer.transform(X_train['positive'].values.reshape(-1,1))\n",
    "X_test_pos_norm = normalizer.transform(X_test['positive'].values.reshape(-1,1))\n",
    "\n",
    "\n",
    "\n",
    "print(\"After vectorizations\")\n",
    "print(X_train_pos_norm.shape, y_train.shape)\n",
    "print(X_test_pos_norm.shape, y_test.shape)"
   ]
  },
  {
   "cell_type": "code",
   "execution_count": 44,
   "id": "da62e724",
   "metadata": {
    "execution": {
     "iopub.execute_input": "2022-07-25T12:51:07.543146Z",
     "iopub.status.busy": "2022-07-25T12:51:07.542167Z",
     "iopub.status.idle": "2022-07-25T12:51:07.553446Z",
     "shell.execute_reply": "2022-07-25T12:51:07.551803Z"
    },
    "papermill": {
     "duration": 0.041164,
     "end_time": "2022-07-25T12:51:07.556227",
     "exception": false,
     "start_time": "2022-07-25T12:51:07.515063",
     "status": "completed"
    },
    "tags": []
   },
   "outputs": [
    {
     "name": "stdout",
     "output_type": "stream",
     "text": [
      "After vectorizations\n",
      "(10841, 1) (10841,)\n",
      "(5341, 1) (5341,)\n"
     ]
    }
   ],
   "source": [
    "normalizer.fit(X_train['compound'].values.reshape(-1,1))\n",
    "\n",
    "X_train_comp_norm = normalizer.transform(X_train['compound'].values.reshape(-1,1))\n",
    "X_test_comp_norm = normalizer.transform(X_test['compound'].values.reshape(-1,1))\n",
    "\n",
    "\n",
    "\n",
    "print(\"After vectorizations\")\n",
    "print(X_train_comp_norm.shape, y_train.shape)\n",
    "print(X_test_comp_norm.shape, y_test.shape)"
   ]
  },
  {
   "cell_type": "code",
   "execution_count": 45,
   "id": "5cec0ac1",
   "metadata": {
    "execution": {
     "iopub.execute_input": "2022-07-25T12:51:07.611553Z",
     "iopub.status.busy": "2022-07-25T12:51:07.610803Z",
     "iopub.status.idle": "2022-07-25T12:51:07.658455Z",
     "shell.execute_reply": "2022-07-25T12:51:07.657121Z"
    },
    "papermill": {
     "duration": 0.079488,
     "end_time": "2022-07-25T12:51:07.662674",
     "exception": false,
     "start_time": "2022-07-25T12:51:07.583186",
     "status": "completed"
    },
    "tags": []
   },
   "outputs": [
    {
     "name": "stdout",
     "output_type": "stream",
     "text": [
      "Final Data matrix\n",
      "(10841, 6092) (10841,)\n",
      "(5341, 6092) (5341,)\n"
     ]
    }
   ],
   "source": [
    "# stacking data creating final data to feed the model\n",
    "from scipy.sparse import hstack\n",
    "X_tr1 = hstack((X_train_review_tfidf, X_train_rating_norm, X_train_neg_norm, X_train_neu_norm, \n",
    "                X_train_pos_norm, X_train_comp_norm)).tocsr()\n",
    "X_te1 = hstack((X_test_review_tfidf, X_test_rating_norm, X_test_neg_norm, X_test_neu_norm, \n",
    "               X_test_pos_norm, X_test_comp_norm)).tocsr()\n",
    "\n",
    "print(\"Final Data matrix\")\n",
    "print(X_tr1.shape, y_train.shape)\n",
    "print(X_te1.shape, y_test.shape)\n"
   ]
  },
  {
   "cell_type": "markdown",
   "id": "9d0b6e9c",
   "metadata": {
    "papermill": {
     "duration": 0.02584,
     "end_time": "2022-07-25T12:51:07.715227",
     "exception": false,
     "start_time": "2022-07-25T12:51:07.689387",
     "status": "completed"
    },
    "tags": []
   },
   "source": [
    "## ***Hyperparameter tuning and modeling***"
   ]
  },
  {
   "cell_type": "code",
   "execution_count": 46,
   "id": "cd7e639d",
   "metadata": {
    "execution": {
     "iopub.execute_input": "2022-07-25T12:51:07.769441Z",
     "iopub.status.busy": "2022-07-25T12:51:07.769051Z",
     "iopub.status.idle": "2022-07-25T12:51:34.907895Z",
     "shell.execute_reply": "2022-07-25T12:51:34.906634Z"
    },
    "papermill": {
     "duration": 27.16888,
     "end_time": "2022-07-25T12:51:34.910282",
     "exception": false,
     "start_time": "2022-07-25T12:51:07.741402",
     "status": "completed"
    },
    "tags": []
   },
   "outputs": [
    {
     "data": {
      "text/plain": [
       "GridSearchCV(cv=5, estimator=GradientBoostingClassifier(), n_jobs=-1,\n",
       "             param_grid={'max_depth': [1, 2, 3, 4],\n",
       "                         'n_estimators': [5, 10, 15, 20]},\n",
       "             return_train_score=True, scoring='roc_auc')"
      ]
     },
     "execution_count": 46,
     "metadata": {},
     "output_type": "execute_result"
    }
   ],
   "source": [
    "#gbdt\n",
    "from sklearn.ensemble import GradientBoostingClassifier\n",
    "from sklearn.model_selection import GridSearchCV\n",
    "\n",
    "params = {'max_depth': [1,2,3,4], 'n_estimators': [5, 10, 15, 20]}\n",
    "gbdt_tfidf = GradientBoostingClassifier(learning_rate=0.1) \n",
    "gbdtclf_set_1 = GridSearchCV(gbdt_tfidf, params, cv=5, scoring='roc_auc', return_train_score=True, n_jobs=-1)\n",
    "gbdtclf_set_1.fit(X_tr1,y_train)"
   ]
  },
  {
   "cell_type": "code",
   "execution_count": 47,
   "id": "1cf5abfd",
   "metadata": {
    "execution": {
     "iopub.execute_input": "2022-07-25T12:51:34.964649Z",
     "iopub.status.busy": "2022-07-25T12:51:34.964003Z",
     "iopub.status.idle": "2022-07-25T12:51:34.969242Z",
     "shell.execute_reply": "2022-07-25T12:51:34.968270Z"
    },
    "papermill": {
     "duration": 0.035894,
     "end_time": "2022-07-25T12:51:34.972208",
     "exception": false,
     "start_time": "2022-07-25T12:51:34.936314",
     "status": "completed"
    },
    "tags": []
   },
   "outputs": [
    {
     "name": "stdout",
     "output_type": "stream",
     "text": [
      "Best score:  0.8859697962350668\n",
      "alpha value with best score:  {'max_depth': 4, 'n_estimators': 20}\n"
     ]
    }
   ],
   "source": [
    "print('Best score: ',gbdtclf_set_1.best_score_)\n",
    "print('alpha value with best score: ',gbdtclf_set_1.best_params_)"
   ]
  },
  {
   "cell_type": "code",
   "execution_count": 48,
   "id": "97dc1adf",
   "metadata": {
    "execution": {
     "iopub.execute_input": "2022-07-25T12:51:35.027477Z",
     "iopub.status.busy": "2022-07-25T12:51:35.026354Z",
     "iopub.status.idle": "2022-07-25T12:51:35.609186Z",
     "shell.execute_reply": "2022-07-25T12:51:35.608360Z"
    },
    "papermill": {
     "duration": 0.612771,
     "end_time": "2022-07-25T12:51:35.611677",
     "exception": false,
     "start_time": "2022-07-25T12:51:34.998906",
     "status": "completed"
    },
    "tags": []
   },
   "outputs": [
    {
     "data": {
      "image/png": "[encoded data removed]",
      "text/plain": [
       "<Figure size 1440x432 with 4 Axes>"
      ]
     },
     "metadata": {
      "needs_background": "light"
     },
     "output_type": "display_data"
    }
   ],
   "source": [
    "#ploting heat map for best hyperparameter\n",
    "import matplotlib.pyplot as plt\n",
    "import seaborn as sns\n",
    "results = pd.DataFrame.from_dict(gbdtclf_set_1.cv_results_)\n",
    "max_score_set_1 = results.groupby(['param_n_estimators', 'param_max_depth']).max()\n",
    "max_score_set_1 = max_score_set_1.unstack()[['mean_test_score', 'mean_train_score']]\n",
    "#sns.heatmap(max_scores.mean_test_score, annot=True, fmt='.4g');\n",
    "fig, ax = plt.subplots(1,2, figsize=(20,6))\n",
    "sns.heatmap(max_score_set_1.mean_train_score, annot = True, fmt='.4g', ax=ax[0],annot_kws={\"size\": 20}, cmap = \"BuPu\")\n",
    "sns.heatmap(max_score_set_1.mean_test_score, annot = True, fmt='.4g', ax=ax[1],annot_kws={\"size\": 20},cmap=\"YlGnBu\")\n",
    "ax[0].set_title('Train Set')\n",
    "ax[1].set_title('CV Set')\n",
    "plt.show() \n",
    "# reference:\n",
    "# https://stackoverflow.com/questions/56302647/how-to-plot-a-heatmap-and-find-best-hyperparameter-for-decision-tree-after-grids"
   ]
  },
  {
   "cell_type": "code",
   "execution_count": 49,
   "id": "75d2feda",
   "metadata": {
    "execution": {
     "iopub.execute_input": "2022-07-25T12:51:35.670246Z",
     "iopub.status.busy": "2022-07-25T12:51:35.669583Z",
     "iopub.status.idle": "2022-07-25T12:51:38.017063Z",
     "shell.execute_reply": "2022-07-25T12:51:38.014773Z"
    },
    "papermill": {
     "duration": 2.379951,
     "end_time": "2022-07-25T12:51:38.019817",
     "exception": false,
     "start_time": "2022-07-25T12:51:35.639866",
     "status": "completed"
    },
    "tags": []
   },
   "outputs": [
    {
     "data": {
      "text/plain": [
       "GradientBoostingClassifier(max_depth=4, n_estimators=20)"
      ]
     },
     "execution_count": 49,
     "metadata": {},
     "output_type": "execute_result"
    }
   ],
   "source": [
    "#gbdt with best params\n",
    "gbdt_tfidf_best = GradientBoostingClassifier(learning_rate=0.1,max_depth=4,n_estimators=20) \n",
    "gbdt_tfidf_best.fit(X_tr1,y_train)"
   ]
  },
  {
   "cell_type": "code",
   "execution_count": 50,
   "id": "f23efddd",
   "metadata": {
    "execution": {
     "iopub.execute_input": "2022-07-25T12:51:38.078764Z",
     "iopub.status.busy": "2022-07-25T12:51:38.078011Z",
     "iopub.status.idle": "2022-07-25T12:51:38.083142Z",
     "shell.execute_reply": "2022-07-25T12:51:38.082347Z"
    },
    "papermill": {
     "duration": 0.037445,
     "end_time": "2022-07-25T12:51:38.085476",
     "exception": false,
     "start_time": "2022-07-25T12:51:38.048031",
     "status": "completed"
    },
    "tags": []
   },
   "outputs": [],
   "source": [
    "from sklearn.metrics import roc_curve, auc\n",
    "from sklearn import metrics"
   ]
  },
  {
   "cell_type": "code",
   "execution_count": 51,
   "id": "c3adbb0b",
   "metadata": {
    "execution": {
     "iopub.execute_input": "2022-07-25T12:51:38.144564Z",
     "iopub.status.busy": "2022-07-25T12:51:38.143753Z",
     "iopub.status.idle": "2022-07-25T12:51:38.557515Z",
     "shell.execute_reply": "2022-07-25T12:51:38.556380Z"
    },
    "papermill": {
     "duration": 0.445958,
     "end_time": "2022-07-25T12:51:38.560079",
     "exception": false,
     "start_time": "2022-07-25T12:51:38.114121",
     "status": "completed"
    },
    "tags": []
   },
   "outputs": [
    {
     "data": {
      "image/png": "[encoded data removed]",
      "text/plain": [
       "<Figure size 576x432 with 1 Axes>"
      ]
     },
     "metadata": {
      "needs_background": "light"
     },
     "output_type": "display_data"
    }
   ],
   "source": [
    "#Auc curve\n",
    "y_train_probs_tfidf_set1 = gbdt_tfidf_best.predict_proba(X_tr1)[:,1] # converting train and test output into probability\n",
    "y_test_probs_tfidf_set1 = gbdt_tfidf_best.predict_proba(X_te1 )[:,1]\n",
    "\n",
    "train_fpr_tfidf_set1, train_tpr_tfidf_set1, tr_thresholds_tfidf_set1 = roc_curve(y_train, y_train_probs_tfidf_set1) # storing values of fpr and tpr\n",
    "test_fpr_tfidf_set1, test_tpr_tfidf_set1, te_thresholds_tfidf_set1 = roc_curve(y_test, y_test_probs_tfidf_set1)\n",
    "\n",
    "plt.figure(figsize=(8,6))\n",
    "plt.plot(train_fpr_tfidf_set1, train_tpr_tfidf_set1, label=\"Train AUC =\"+str(auc(train_fpr_tfidf_set1, train_tpr_tfidf_set1)))\n",
    "plt.plot(test_fpr_tfidf_set1, test_tpr_tfidf_set1, label=\"Test AUC =\"+str(auc(test_fpr_tfidf_set1, test_tpr_tfidf_set1)))\n",
    "plt.legend()\n",
    "plt.xlabel(\"False Positive Rate(FPR)\")\n",
    "plt.ylabel(\"True Positive Rate(TPR)\")\n",
    "plt.title(\"AUC\")\n",
    "plt.grid(color='black',lw=0.5)"
   ]
  },
  {
   "cell_type": "code",
   "execution_count": 52,
   "id": "cee19234",
   "metadata": {
    "execution": {
     "iopub.execute_input": "2022-07-25T12:51:38.618664Z",
     "iopub.status.busy": "2022-07-25T12:51:38.618299Z",
     "iopub.status.idle": "2022-07-25T12:51:38.625907Z",
     "shell.execute_reply": "2022-07-25T12:51:38.624707Z"
    },
    "papermill": {
     "duration": 0.039841,
     "end_time": "2022-07-25T12:51:38.628127",
     "exception": false,
     "start_time": "2022-07-25T12:51:38.588286",
     "status": "completed"
    },
    "tags": []
   },
   "outputs": [],
   "source": [
    "# https://stackoverflow.com/questions/31417487/sklearn-logisticregression-and-changing-the-default-threshold-for-classification\n",
    "def find_best_threshold(threshould, fpr, tpr):\n",
    "    t = threshould[np.argmax(tpr*(1-fpr))]\n",
    "    # (tpr*(1-fpr)) will be maximum if your fpr is very low and tpr is very high\n",
    "    print(\"the maximum value of tpr*(1-fpr)\", max(tpr*(1-fpr)), \"for threshold\", np.round(t,3))\n",
    "    return t\n",
    "\n",
    "def predict_with_best_t(proba, threshould):\n",
    "    predictions = []\n",
    "    for i in proba:\n",
    "        if i>=threshould:\n",
    "            predictions.append(1)\n",
    "        else:\n",
    "            predictions.append(0)\n",
    "    return predictions"
   ]
  },
  {
   "cell_type": "code",
   "execution_count": 53,
   "id": "f03c895c",
   "metadata": {
    "execution": {
     "iopub.execute_input": "2022-07-25T12:51:38.687398Z",
     "iopub.status.busy": "2022-07-25T12:51:38.686777Z",
     "iopub.status.idle": "2022-07-25T12:51:38.704332Z",
     "shell.execute_reply": "2022-07-25T12:51:38.703049Z"
    },
    "papermill": {
     "duration": 0.04995,
     "end_time": "2022-07-25T12:51:38.706857",
     "exception": false,
     "start_time": "2022-07-25T12:51:38.656907",
     "status": "completed"
    },
    "tags": []
   },
   "outputs": [
    {
     "name": "stdout",
     "output_type": "stream",
     "text": [
      "the maximum value of tpr*(1-fpr) 0.6804226559144396 for threshold 0.563\n"
     ]
    }
   ],
   "source": [
    "# https://stackoverflow.com/questions/35572000/how-can-i-plot-a-confusion-matrix\n",
    "best_t_tfidf_set1_train = find_best_threshold(tr_thresholds_tfidf_set1, train_fpr_tfidf_set1, train_tpr_tfidf_set1)\n",
    "cm=metrics.confusion_matrix(y_train,predict_with_best_t(y_train_probs_tfidf_set1, best_t_tfidf_set1_train))"
   ]
  },
  {
   "cell_type": "code",
   "execution_count": 54,
   "id": "0d303ac1",
   "metadata": {
    "execution": {
     "iopub.execute_input": "2022-07-25T12:51:38.765817Z",
     "iopub.status.busy": "2022-07-25T12:51:38.765292Z",
     "iopub.status.idle": "2022-07-25T12:51:38.777295Z",
     "shell.execute_reply": "2022-07-25T12:51:38.776082Z"
    },
    "papermill": {
     "duration": 0.045268,
     "end_time": "2022-07-25T12:51:38.780860",
     "exception": false,
     "start_time": "2022-07-25T12:51:38.735592",
     "status": "completed"
    },
    "tags": []
   },
   "outputs": [
    {
     "name": "stdout",
     "output_type": "stream",
     "text": [
      "the maximum value of tpr*(1-fpr) 0.6662736255831465 for threshold 0.549\n"
     ]
    }
   ],
   "source": [
    "best_t_tfidf_set1_test = find_best_threshold(te_thresholds_tfidf_set1, test_fpr_tfidf_set1, test_tpr_tfidf_set1)\n",
    "cm1=metrics.confusion_matrix(y_test,predict_with_best_t(y_test_probs_tfidf_set1, best_t_tfidf_set1_test))"
   ]
  },
  {
   "cell_type": "code",
   "execution_count": 55,
   "id": "61ac04cc",
   "metadata": {
    "execution": {
     "iopub.execute_input": "2022-07-25T12:51:38.842794Z",
     "iopub.status.busy": "2022-07-25T12:51:38.841949Z",
     "iopub.status.idle": "2022-07-25T12:51:39.323901Z",
     "shell.execute_reply": "2022-07-25T12:51:39.322710Z"
    },
    "papermill": {
     "duration": 0.515533,
     "end_time": "2022-07-25T12:51:39.326349",
     "exception": false,
     "start_time": "2022-07-25T12:51:38.810816",
     "status": "completed"
    },
    "tags": []
   },
   "outputs": [
    {
     "data": {
      "image/png": "[encoded data removed]",
      "text/plain": [
       "<Figure size 1440x432 with 4 Axes>"
      ]
     },
     "metadata": {
      "needs_background": "light"
     },
     "output_type": "display_data"
    }
   ],
   "source": [
    "#ploting confusion matrix\n",
    "fig, ax = plt.subplots(1,2, figsize=(20,6))\n",
    "sns.heatmap(cm, annot = True, fmt='d', ax=ax[0],annot_kws={\"size\": 26}, cmap = \"BuPu\")\n",
    "sns.heatmap(cm1, annot = True, fmt='d', ax=ax[1],annot_kws={\"size\": 26},cmap=\"YlGnBu\")\n",
    "ax[0].set_title('Train Data',fontsize = 20)\n",
    "ax[1].set_title('Test Data',fontsize = 20)\n",
    "ax[0].set_xlabel(\"Actual\", fontsize = 20)\n",
    "ax[0].set_ylabel(\"Predicted\", fontsize = 20)\n",
    "ax[1].set_xlabel(\"Actual\", fontsize = 20)\n",
    "ax[1].set_ylabel(\"Predicted\", fontsize = 20)\n",
    "plt.show() "
   ]
  },
  {
   "cell_type": "code",
   "execution_count": 56,
   "id": "63ef929b",
   "metadata": {
    "execution": {
     "iopub.execute_input": "2022-07-25T12:51:39.388801Z",
     "iopub.status.busy": "2022-07-25T12:51:39.387829Z",
     "iopub.status.idle": "2022-07-25T12:51:39.394587Z",
     "shell.execute_reply": "2022-07-25T12:51:39.393555Z"
    },
    "papermill": {
     "duration": 0.040753,
     "end_time": "2022-07-25T12:51:39.397034",
     "exception": false,
     "start_time": "2022-07-25T12:51:39.356281",
     "status": "completed"
    },
    "tags": []
   },
   "outputs": [
    {
     "data": {
      "text/plain": [
       "(5341, 6092)"
      ]
     },
     "execution_count": 56,
     "metadata": {},
     "output_type": "execute_result"
    }
   ],
   "source": [
    "y_test.shape\n",
    "X_te1.shape"
   ]
  },
  {
   "cell_type": "markdown",
   "id": "3aad7af5",
   "metadata": {
    "papermill": {
     "duration": 0.03103,
     "end_time": "2022-07-25T12:51:39.458959",
     "exception": false,
     "start_time": "2022-07-25T12:51:39.427929",
     "status": "completed"
    },
    "tags": []
   },
   "source": [
    "## ***Checking how my model is predicting on single input of unseen data***"
   ]
  },
  {
   "cell_type": "code",
   "execution_count": 57,
   "id": "4186a61d",
   "metadata": {
    "execution": {
     "iopub.execute_input": "2022-07-25T12:51:39.522396Z",
     "iopub.status.busy": "2022-07-25T12:51:39.521999Z",
     "iopub.status.idle": "2022-07-25T12:51:39.528736Z",
     "shell.execute_reply": "2022-07-25T12:51:39.527753Z"
    },
    "papermill": {
     "duration": 0.040813,
     "end_time": "2022-07-25T12:51:39.530853",
     "exception": false,
     "start_time": "2022-07-25T12:51:39.490040",
     "status": "completed"
    },
    "tags": []
   },
   "outputs": [
    {
     "data": {
      "text/plain": [
       "1"
      ]
     },
     "execution_count": 57,
     "metadata": {},
     "output_type": "execute_result"
    }
   ],
   "source": [
    "y_test[5320]"
   ]
  },
  {
   "cell_type": "code",
   "execution_count": 58,
   "id": "7c15ba01",
   "metadata": {
    "execution": {
     "iopub.execute_input": "2022-07-25T12:51:39.594774Z",
     "iopub.status.busy": "2022-07-25T12:51:39.594305Z",
     "iopub.status.idle": "2022-07-25T12:51:39.603287Z",
     "shell.execute_reply": "2022-07-25T12:51:39.601573Z"
    },
    "papermill": {
     "duration": 0.04386,
     "end_time": "2022-07-25T12:51:39.606011",
     "exception": false,
     "start_time": "2022-07-25T12:51:39.562151",
     "status": "completed"
    },
    "tags": []
   },
   "outputs": [
    {
     "name": "stdout",
     "output_type": "stream",
     "text": [
      "[1]\n"
     ]
    }
   ],
   "source": [
    "input_data = X_te1[0]\n",
    "\n",
    "input_data_reshaped = input_data.reshape(1,-1)\n",
    "\n",
    "prediction = gbdt_tfidf_best.predict(input_data_reshaped)\n",
    "print(prediction)\n",
    "\n"
   ]
  },
  {
   "cell_type": "code",
   "execution_count": 59,
   "id": "48692276",
   "metadata": {
    "execution": {
     "iopub.execute_input": "2022-07-25T12:51:39.674187Z",
     "iopub.status.busy": "2022-07-25T12:51:39.673696Z",
     "iopub.status.idle": "2022-07-25T12:51:39.684494Z",
     "shell.execute_reply": "2022-07-25T12:51:39.683262Z"
    },
    "papermill": {
     "duration": 0.047861,
     "end_time": "2022-07-25T12:51:39.687094",
     "exception": false,
     "start_time": "2022-07-25T12:51:39.639233",
     "status": "completed"
    },
    "tags": []
   },
   "outputs": [
    {
     "name": "stdout",
     "output_type": "stream",
     "text": [
      "[1 1 0 ... 1 0 1]\n"
     ]
    }
   ],
   "source": [
    "p = gbdt_tfidf_best.predict(X_te1)\n",
    "print(p)"
   ]
  },
  {
   "cell_type": "code",
   "execution_count": 60,
   "id": "4696bcd0",
   "metadata": {
    "execution": {
     "iopub.execute_input": "2022-07-25T12:51:39.751669Z",
     "iopub.status.busy": "2022-07-25T12:51:39.750574Z",
     "iopub.status.idle": "2022-07-25T12:51:39.764922Z",
     "shell.execute_reply": "2022-07-25T12:51:39.763760Z"
    },
    "papermill": {
     "duration": 0.048572,
     "end_time": "2022-07-25T12:51:39.767091",
     "exception": false,
     "start_time": "2022-07-25T12:51:39.718519",
     "status": "completed"
    },
    "tags": []
   },
   "outputs": [
    {
     "data": {
      "text/html": [
       "<div>\n",
       "<style scoped>\n",
       "    .dataframe tbody tr th:only-of-type {\n",
       "        vertical-align: middle;\n",
       "    }\n",
       "\n",
       "    .dataframe tbody tr th {\n",
       "        vertical-align: top;\n",
       "    }\n",
       "\n",
       "    .dataframe thead th {\n",
       "        text-align: right;\n",
       "    }\n",
       "</style>\n",
       "<table border=\"1\" class=\"dataframe\">\n",
       "  <thead>\n",
       "    <tr style=\"text-align: right;\">\n",
       "      <th></th>\n",
       "      <th>review</th>\n",
       "      <th>rating</th>\n",
       "      <th>negative</th>\n",
       "      <th>neutral</th>\n",
       "      <th>positive</th>\n",
       "      <th>compound</th>\n",
       "    </tr>\n",
       "  </thead>\n",
       "  <tbody>\n",
       "    <tr>\n",
       "      <th>2490</th>\n",
       "      <td>Nice...READ MORE</td>\n",
       "      <td>3</td>\n",
       "      <td>0.000</td>\n",
       "      <td>1.000</td>\n",
       "      <td>0.000</td>\n",
       "      <td>0.0000</td>\n",
       "    </tr>\n",
       "    <tr>\n",
       "      <th>8929</th>\n",
       "      <td>GdREAD MORE</td>\n",
       "      <td>5</td>\n",
       "      <td>0.000</td>\n",
       "      <td>1.000</td>\n",
       "      <td>0.000</td>\n",
       "      <td>0.0000</td>\n",
       "    </tr>\n",
       "    <tr>\n",
       "      <th>8669</th>\n",
       "      <td>material is very sturdy and quality of materia...</td>\n",
       "      <td>1</td>\n",
       "      <td>0.145</td>\n",
       "      <td>0.775</td>\n",
       "      <td>0.079</td>\n",
       "      <td>-0.6868</td>\n",
       "    </tr>\n",
       "    <tr>\n",
       "      <th>7578</th>\n",
       "      <td>TqREAD MORE</td>\n",
       "      <td>5</td>\n",
       "      <td>0.000</td>\n",
       "      <td>1.000</td>\n",
       "      <td>0.000</td>\n",
       "      <td>0.0000</td>\n",
       "    </tr>\n",
       "    <tr>\n",
       "      <th>9952</th>\n",
       "      <td>I can't wear it more than 10 minutes.It's too ...</td>\n",
       "      <td>1</td>\n",
       "      <td>0.000</td>\n",
       "      <td>1.000</td>\n",
       "      <td>0.000</td>\n",
       "      <td>0.0000</td>\n",
       "    </tr>\n",
       "  </tbody>\n",
       "</table>\n",
       "</div>"
      ],
      "text/plain": [
       "                                                 review  rating  negative  \\\n",
       "2490                                   Nice...READ MORE       3     0.000   \n",
       "8929                                        GdREAD MORE       5     0.000   \n",
       "8669  material is very sturdy and quality of materia...       1     0.145   \n",
       "7578                                        TqREAD MORE       5     0.000   \n",
       "9952  I can't wear it more than 10 minutes.It's too ...       1     0.000   \n",
       "\n",
       "      neutral  positive  compound  \n",
       "2490    1.000     0.000    0.0000  \n",
       "8929    1.000     0.000    0.0000  \n",
       "8669    0.775     0.079   -0.6868  \n",
       "7578    1.000     0.000    0.0000  \n",
       "9952    1.000     0.000    0.0000  "
      ]
     },
     "execution_count": 60,
     "metadata": {},
     "output_type": "execute_result"
    }
   ],
   "source": [
    "X_test.head()"
   ]
  },
  {
   "cell_type": "code",
   "execution_count": 61,
   "id": "9c1075fe",
   "metadata": {
    "execution": {
     "iopub.execute_input": "2022-07-25T12:51:39.831717Z",
     "iopub.status.busy": "2022-07-25T12:51:39.831000Z",
     "iopub.status.idle": "2022-07-25T12:51:39.890876Z",
     "shell.execute_reply": "2022-07-25T12:51:39.889903Z"
    },
    "papermill": {
     "duration": 0.09514,
     "end_time": "2022-07-25T12:51:39.893407",
     "exception": false,
     "start_time": "2022-07-25T12:51:39.798267",
     "status": "completed"
    },
    "tags": []
   },
   "outputs": [],
   "source": [
    "submission = pd.DataFrame({'review': X_test.review,'rating':X_test.rating,'negative':X_test.negative,\n",
    "                           'neutral':X_test.neutral,'positive':X_test.positive,\n",
    "                           'compound':X_test.compound,'predicted class label': p, 'actual class label': y_test})\n",
    "# you could use any filename. We choose submission here\n",
    "submission.to_csv('submission.csv', index=False)"
   ]
  },
  {
   "cell_type": "code",
   "execution_count": 62,
   "id": "7eeb27d1",
   "metadata": {
    "execution": {
     "iopub.execute_input": "2022-07-25T12:51:39.959230Z",
     "iopub.status.busy": "2022-07-25T12:51:39.958328Z",
     "iopub.status.idle": "2022-07-25T12:51:39.994715Z",
     "shell.execute_reply": "2022-07-25T12:51:39.993646Z"
    },
    "papermill": {
     "duration": 0.071859,
     "end_time": "2022-07-25T12:51:39.996753",
     "exception": false,
     "start_time": "2022-07-25T12:51:39.924894",
     "status": "completed"
    },
    "tags": []
   },
   "outputs": [
    {
     "data": {
      "text/html": [
       "<div>\n",
       "<style scoped>\n",
       "    .dataframe tbody tr th:only-of-type {\n",
       "        vertical-align: middle;\n",
       "    }\n",
       "\n",
       "    .dataframe tbody tr th {\n",
       "        vertical-align: top;\n",
       "    }\n",
       "\n",
       "    .dataframe thead th {\n",
       "        text-align: right;\n",
       "    }\n",
       "</style>\n",
       "<table border=\"1\" class=\"dataframe\">\n",
       "  <thead>\n",
       "    <tr style=\"text-align: right;\">\n",
       "      <th></th>\n",
       "      <th>review</th>\n",
       "      <th>rating</th>\n",
       "      <th>negative</th>\n",
       "      <th>neutral</th>\n",
       "      <th>positive</th>\n",
       "      <th>compound</th>\n",
       "      <th>predicted class label</th>\n",
       "      <th>actual class label</th>\n",
       "    </tr>\n",
       "  </thead>\n",
       "  <tbody>\n",
       "    <tr>\n",
       "      <th>0</th>\n",
       "      <td>Nice...READ MORE</td>\n",
       "      <td>3</td>\n",
       "      <td>0.000</td>\n",
       "      <td>1.000</td>\n",
       "      <td>0.000</td>\n",
       "      <td>0.0000</td>\n",
       "      <td>1</td>\n",
       "      <td>0</td>\n",
       "    </tr>\n",
       "    <tr>\n",
       "      <th>1</th>\n",
       "      <td>GdREAD MORE</td>\n",
       "      <td>5</td>\n",
       "      <td>0.000</td>\n",
       "      <td>1.000</td>\n",
       "      <td>0.000</td>\n",
       "      <td>0.0000</td>\n",
       "      <td>1</td>\n",
       "      <td>1</td>\n",
       "    </tr>\n",
       "    <tr>\n",
       "      <th>2</th>\n",
       "      <td>material is very sturdy and quality of materia...</td>\n",
       "      <td>1</td>\n",
       "      <td>0.145</td>\n",
       "      <td>0.775</td>\n",
       "      <td>0.079</td>\n",
       "      <td>-0.6868</td>\n",
       "      <td>0</td>\n",
       "      <td>0</td>\n",
       "    </tr>\n",
       "    <tr>\n",
       "      <th>3</th>\n",
       "      <td>TqREAD MORE</td>\n",
       "      <td>5</td>\n",
       "      <td>0.000</td>\n",
       "      <td>1.000</td>\n",
       "      <td>0.000</td>\n",
       "      <td>0.0000</td>\n",
       "      <td>1</td>\n",
       "      <td>1</td>\n",
       "    </tr>\n",
       "    <tr>\n",
       "      <th>4</th>\n",
       "      <td>I can't wear it more than 10 minutes.It's too ...</td>\n",
       "      <td>1</td>\n",
       "      <td>0.000</td>\n",
       "      <td>1.000</td>\n",
       "      <td>0.000</td>\n",
       "      <td>0.0000</td>\n",
       "      <td>0</td>\n",
       "      <td>0</td>\n",
       "    </tr>\n",
       "    <tr>\n",
       "      <th>5</th>\n",
       "      <td>Nice product to buyREAD MORE</td>\n",
       "      <td>4</td>\n",
       "      <td>0.000</td>\n",
       "      <td>0.588</td>\n",
       "      <td>0.412</td>\n",
       "      <td>0.4215</td>\n",
       "      <td>1</td>\n",
       "      <td>1</td>\n",
       "    </tr>\n",
       "    <tr>\n",
       "      <th>6</th>\n",
       "      <td>Sound and look is good but its fitment over th...</td>\n",
       "      <td>3</td>\n",
       "      <td>0.079</td>\n",
       "      <td>0.759</td>\n",
       "      <td>0.162</td>\n",
       "      <td>0.3992</td>\n",
       "      <td>0</td>\n",
       "      <td>0</td>\n",
       "    </tr>\n",
       "    <tr>\n",
       "      <th>7</th>\n",
       "      <td>I buy this headphone on September but it's not...</td>\n",
       "      <td>2</td>\n",
       "      <td>0.000</td>\n",
       "      <td>1.000</td>\n",
       "      <td>0.000</td>\n",
       "      <td>0.0000</td>\n",
       "      <td>0</td>\n",
       "      <td>0</td>\n",
       "    </tr>\n",
       "    <tr>\n",
       "      <th>8</th>\n",
       "      <td>Worst experience. Getting neck pain and headac...</td>\n",
       "      <td>1</td>\n",
       "      <td>0.295</td>\n",
       "      <td>0.598</td>\n",
       "      <td>0.108</td>\n",
       "      <td>-0.6908</td>\n",
       "      <td>0</td>\n",
       "      <td>0</td>\n",
       "    </tr>\n",
       "    <tr>\n",
       "      <th>9</th>\n",
       "      <td>Headphone is good .Size should be large Proble...</td>\n",
       "      <td>5</td>\n",
       "      <td>0.114</td>\n",
       "      <td>0.763</td>\n",
       "      <td>0.123</td>\n",
       "      <td>0.0516</td>\n",
       "      <td>1</td>\n",
       "      <td>1</td>\n",
       "    </tr>\n",
       "    <tr>\n",
       "      <th>10</th>\n",
       "      <td>Very bad quality my headphones stop working af...</td>\n",
       "      <td>1</td>\n",
       "      <td>0.400</td>\n",
       "      <td>0.600</td>\n",
       "      <td>0.000</td>\n",
       "      <td>-0.7178</td>\n",
       "      <td>0</td>\n",
       "      <td>0</td>\n",
       "    </tr>\n",
       "    <tr>\n",
       "      <th>11</th>\n",
       "      <td>Good productREAD MORE</td>\n",
       "      <td>5</td>\n",
       "      <td>0.000</td>\n",
       "      <td>0.408</td>\n",
       "      <td>0.592</td>\n",
       "      <td>0.4404</td>\n",
       "      <td>1</td>\n",
       "      <td>1</td>\n",
       "    </tr>\n",
       "    <tr>\n",
       "      <th>12</th>\n",
       "      <td>Headband broke in 1 yearREAD MORE</td>\n",
       "      <td>3</td>\n",
       "      <td>0.412</td>\n",
       "      <td>0.588</td>\n",
       "      <td>0.000</td>\n",
       "      <td>-0.4215</td>\n",
       "      <td>0</td>\n",
       "      <td>0</td>\n",
       "    </tr>\n",
       "    <tr>\n",
       "      <th>13</th>\n",
       "      <td>Not comfortableREAD MORE</td>\n",
       "      <td>1</td>\n",
       "      <td>0.000</td>\n",
       "      <td>1.000</td>\n",
       "      <td>0.000</td>\n",
       "      <td>0.0000</td>\n",
       "      <td>0</td>\n",
       "      <td>0</td>\n",
       "    </tr>\n",
       "    <tr>\n",
       "      <th>14</th>\n",
       "      <td>These are actually the best headphones just go...</td>\n",
       "      <td>5</td>\n",
       "      <td>0.000</td>\n",
       "      <td>0.704</td>\n",
       "      <td>0.296</td>\n",
       "      <td>0.6369</td>\n",
       "      <td>1</td>\n",
       "      <td>1</td>\n",
       "    </tr>\n",
       "  </tbody>\n",
       "</table>\n",
       "</div>"
      ],
      "text/plain": [
       "                                               review  rating  negative  \\\n",
       "0                                    Nice...READ MORE       3     0.000   \n",
       "1                                         GdREAD MORE       5     0.000   \n",
       "2   material is very sturdy and quality of materia...       1     0.145   \n",
       "3                                         TqREAD MORE       5     0.000   \n",
       "4   I can't wear it more than 10 minutes.It's too ...       1     0.000   \n",
       "5                        Nice product to buyREAD MORE       4     0.000   \n",
       "6   Sound and look is good but its fitment over th...       3     0.079   \n",
       "7   I buy this headphone on September but it's not...       2     0.000   \n",
       "8   Worst experience. Getting neck pain and headac...       1     0.295   \n",
       "9   Headphone is good .Size should be large Proble...       5     0.114   \n",
       "10  Very bad quality my headphones stop working af...       1     0.400   \n",
       "11                              Good productREAD MORE       5     0.000   \n",
       "12                  Headband broke in 1 yearREAD MORE       3     0.412   \n",
       "13                           Not comfortableREAD MORE       1     0.000   \n",
       "14  These are actually the best headphones just go...       5     0.000   \n",
       "\n",
       "    neutral  positive  compound  predicted class label  actual class label  \n",
       "0     1.000     0.000    0.0000                      1                   0  \n",
       "1     1.000     0.000    0.0000                      1                   1  \n",
       "2     0.775     0.079   -0.6868                      0                   0  \n",
       "3     1.000     0.000    0.0000                      1                   1  \n",
       "4     1.000     0.000    0.0000                      0                   0  \n",
       "5     0.588     0.412    0.4215                      1                   1  \n",
       "6     0.759     0.162    0.3992                      0                   0  \n",
       "7     1.000     0.000    0.0000                      0                   0  \n",
       "8     0.598     0.108   -0.6908                      0                   0  \n",
       "9     0.763     0.123    0.0516                      1                   1  \n",
       "10    0.600     0.000   -0.7178                      0                   0  \n",
       "11    0.408     0.592    0.4404                      1                   1  \n",
       "12    0.588     0.000   -0.4215                      0                   0  \n",
       "13    1.000     0.000    0.0000                      0                   0  \n",
       "14    0.704     0.296    0.6369                      1                   1  "
      ]
     },
     "execution_count": 62,
     "metadata": {},
     "output_type": "execute_result"
    }
   ],
   "source": [
    "D = pd.read_csv('submission.csv')\n",
    "D.head(15)"
   ]
  },
  {
   "cell_type": "markdown",
   "id": "1119ed96",
   "metadata": {
    "papermill": {
     "duration": 0.031167,
     "end_time": "2022-07-25T12:51:40.059485",
     "exception": false,
     "start_time": "2022-07-25T12:51:40.028318",
     "status": "completed"
    },
    "tags": []
   },
   "source": [
    "# ***Model metrics and Characteristics in a tabular form***"
   ]
  },
  {
   "cell_type": "code",
   "execution_count": 63,
   "id": "4604044d",
   "metadata": {
    "execution": {
     "iopub.execute_input": "2022-07-25T12:51:40.125064Z",
     "iopub.status.busy": "2022-07-25T12:51:40.124685Z",
     "iopub.status.idle": "2022-07-25T12:51:40.132216Z",
     "shell.execute_reply": "2022-07-25T12:51:40.131160Z"
    },
    "papermill": {
     "duration": 0.042634,
     "end_time": "2022-07-25T12:51:40.134606",
     "exception": false,
     "start_time": "2022-07-25T12:51:40.091972",
     "status": "completed"
    },
    "tags": []
   },
   "outputs": [
    {
     "name": "stdout",
     "output_type": "stream",
     "text": [
      "+------------+-------+-----------+--------------+-----------+----------+\n",
      "| Vectorizer | Model | max_depth | n_estimators | Train-AUC | Test-AUC |\n",
      "+------------+-------+-----------+--------------+-----------+----------+\n",
      "|   TFIDF    |  GBDT |     4     |      20      |   0.898   |  0.892   |\n",
      "+------------+-------+-----------+--------------+-----------+----------+\n"
     ]
    }
   ],
   "source": [
    "#http://zetcode.com/python/prettytable/\n",
    "from prettytable import PrettyTable\n",
    "table=PrettyTable()\n",
    "table.field_names = [\"Vectorizer\", \"Model\", \"max_depth\",\"n_estimators\", \"Train-AUC\", \"Test-AUC\"] \n",
    "table.add_row([\"TFIDF\", \"GBDT\", 4, 20,  0.8980, 0.8920])\n",
    "print(table)"
   ]
  },
  {
   "cell_type": "markdown",
   "id": "b20b0c2b",
   "metadata": {
    "papermill": {
     "duration": 0.030878,
     "end_time": "2022-07-25T12:51:40.196922",
     "exception": false,
     "start_time": "2022-07-25T12:51:40.166044",
     "status": "completed"
    },
    "tags": []
   },
   "source": [
    "# ***step by step Observation in short***\n",
    "1. data is imbalanced 81.1% is positive so i upsampled it\n",
    "2. now positive and negative classes are equally distributed\n",
    "3. i performed sentiment analysis on reviews it is usefull feature for classifying text if compound sentiment score is negative then the ratings is poor.\n",
    "4. now i split the data in train and test where test size is 33% of total data\n",
    "5. i performed tfidf vectorizer for categorical features encoding\n",
    "6. i performed normalization for numerical features encoding\n",
    "7. then i performed gradient boosted decision tree (gbdt) on my data!\n",
    "8. got the best hyperparameter by performing gridsearchcv on my gbdt classifier max depth is 4 and n estimators are 20\n",
    "9. i choose auc score as a metric! sometimes auc can be very high for a dumb or simple model if data is imbalanced that's why i have done upsampling and in confusion matrix where you witness in training correctly classified points in percentage is 82% and in testing classified points in percentage is 81%!\n",
    "10. Model is overfitting! cuz train auc is 0.898 and test auc is 0.892\n"
   ]
  },
  {
   "cell_type": "code",
   "execution_count": null,
   "id": "fbdcd8ad",
   "metadata": {
    "papermill": {
     "duration": 0.031346,
     "end_time": "2022-07-25T12:51:40.260540",
     "exception": false,
     "start_time": "2022-07-25T12:51:40.229194",
     "status": "completed"
    },
    "tags": []
   },
   "outputs": [],
   "source": []
  }
 ],
 "metadata": {
  "kernelspec": {
   "display_name": "Python 3",
   "language": "python",
   "name": "python3"
  },
  "language_info": {
   "codemirror_mode": {
    "name": "ipython",
    "version": 3
   },
   "file_extension": ".py",
   "mimetype": "text/x-python",
   "name": "python",
   "nbconvert_exporter": "python",
   "pygments_lexer": "ipython3",
   "version": "3.7.12"
  },
  "papermill": {
   "default_parameters": {},
   "duration": 58.316572,
   "end_time": "2022-07-25T12:51:42.913634",
   "environment_variables": {},
   "exception": null,
   "input_path": "__notebook__.ipynb",
   "output_path": "__notebook__.ipynb",
   "parameters": {},
   "start_time": "2022-07-25T12:50:44.597062",
   "version": "2.3.4"
  }
 },
 "nbformat": 4,
 "nbformat_minor": 5
}
